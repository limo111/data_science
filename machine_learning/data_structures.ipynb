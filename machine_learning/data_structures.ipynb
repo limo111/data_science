{
 "cells": [
  {
   "cell_type": "code",
   "execution_count": 2,
   "metadata": {},
   "outputs": [],
   "source": [
    "d1={'a':1,'b':2,'c':3}\n",
    "d2={'d':4,'e':5,'f':6}"
   ]
  },
  {
   "cell_type": "code",
   "execution_count": 4,
   "metadata": {},
   "outputs": [],
   "source": [
    "import collections"
   ]
  },
  {
   "cell_type": "code",
   "execution_count": 5,
   "metadata": {},
   "outputs": [],
   "source": [
    "d=collections.ChainMap(d1,d2)"
   ]
  },
  {
   "cell_type": "code",
   "execution_count": 6,
   "metadata": {},
   "outputs": [
    {
     "data": {
      "text/plain": [
       "ChainMap({'a': 1, 'b': 2, 'c': 3}, {'d': 4, 'e': 5, 'f': 6})"
      ]
     },
     "execution_count": 6,
     "metadata": {},
     "output_type": "execute_result"
    }
   ],
   "source": [
    "d"
   ]
  },
  {
   "cell_type": "code",
   "execution_count": 7,
   "metadata": {},
   "outputs": [],
   "source": [
    "d2['e']=10"
   ]
  },
  {
   "cell_type": "code",
   "execution_count": 13,
   "metadata": {},
   "outputs": [
    {
     "name": "stdout",
     "output_type": "stream",
     "text": [
      "d 4\n",
      "e 10\n",
      "f 6\n",
      "a 1\n",
      "b 2\n",
      "c 3\n"
     ]
    }
   ],
   "source": [
    "for key,val in d.items():\n",
    "    print(key,val)"
   ]
  },
  {
   "cell_type": "code",
   "execution_count": 21,
   "metadata": {},
   "outputs": [
    {
     "name": "stdout",
     "output_type": "stream",
     "text": [
      "sun\n",
      "mon\n",
      "tue\n",
      "fri\n",
      "wed\n",
      "thu\n"
     ]
    }
   ],
   "source": [
    "class node:\n",
    "    def __init__(self,data=None):\n",
    "        self.data=data\n",
    "        self.next=None\n",
    "class slink:\n",
    "    def __init__(self):\n",
    "        self.head=None\n",
    "    def atbegin(self,n):\n",
    "        ne=node(n)\n",
    "        ne.next=self.head\n",
    "        self.head=ne\n",
    "    def inbet(self,mid,new):\n",
    "        newn=node(new)\n",
    "        if mid is None:\n",
    "            return\n",
    "        newn.next=mid.next\n",
    "        mid.next=newn\n",
    "    def atend(self,newnode):\n",
    "        newnoden=node(newnode)\n",
    "        if self.head is None:\n",
    "            self.head=newnoden\n",
    "            return\n",
    "        last=self.head\n",
    "        while last.next is not None:\n",
    "            last=last.next\n",
    "        last.next=newnoden\n",
    "    def remo(self,val):\n",
    "        if self.head is None:\n",
    "            return\n",
    "        if self.head==val:\n",
    "            self.head=self.head.next\n",
    "            return\n",
    "        current_node=self.head\n",
    "        while current_node is not None:\n",
    "            if self.head.next==val:\n",
    "                self.head.next=self.head.next.next\n",
    "                return\n",
    "            current_node=current_node.next\n",
    "    def pri(self):\n",
    "        printv=self.head\n",
    "        while printv is not None:\n",
    "            print(printv.data)\n",
    "            printv=printv.next\n",
    "d=slink()\n",
    "d.head=node('mon')\n",
    "e2=node('tue')\n",
    "e3=node('wed')\n",
    "d.head.next=e2\n",
    "e2.next=e3\n",
    "d.atbegin('sun')\n",
    "d.inbet(e2,'fri')\n",
    "d.atend('thu')\n",
    "d.pri()\n",
    "d.remo('fri')"
   ]
  },
  {
   "cell_type": "code",
   "execution_count": 23,
   "metadata": {},
   "outputs": [
    {
     "data": {
      "text/plain": [
       "'tue'"
      ]
     },
     "execution_count": 23,
     "metadata": {},
     "output_type": "execute_result"
    }
   ],
   "source": [
    "class stack:\n",
    "    def __init__(self):\n",
    "        self.stack=[]\n",
    "    def push(self,data):\n",
    "        if data not in self.stack:\n",
    "            return self.stack.append(data)\n",
    "    def peek(self):\n",
    "        return self.stack[-1]\n",
    "s=stack()\n",
    "s.push('mon')\n",
    "s.push('tue')\n",
    "s.peek()"
   ]
  },
  {
   "cell_type": "code",
   "execution_count": null,
   "metadata": {},
   "outputs": [],
   "source": []
  }
 ],
 "metadata": {
  "kernelspec": {
   "display_name": "tensorflow",
   "language": "python",
   "name": "python3"
  },
  "language_info": {
   "codemirror_mode": {
    "name": "ipython",
    "version": 3
   },
   "file_extension": ".py",
   "mimetype": "text/x-python",
   "name": "python",
   "nbconvert_exporter": "python",
   "pygments_lexer": "ipython3",
   "version": "3.9.15"
  },
  "orig_nbformat": 4
 },
 "nbformat": 4,
 "nbformat_minor": 2
}
