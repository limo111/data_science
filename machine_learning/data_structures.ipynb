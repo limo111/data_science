{
 "cells": [
  {
   "attachments": {},
   "cell_type": "markdown",
   "metadata": {},
   "source": [
    "### ADVANCE DATA STRUCTURES IN DATA SCIENCE."
   ]
  },
  {
   "cell_type": "code",
   "execution_count": 2,
   "metadata": {},
   "outputs": [],
   "source": [
    "d1={'a':1,'b':2,'c':3}\n",
    "d2={'d':4,'e':5,'f':6}"
   ]
  },
  {
   "attachments": {},
   "cell_type": "markdown",
   "metadata": {},
   "source": [
    "### Chain Map."
   ]
  },
  {
   "cell_type": "code",
   "execution_count": 4,
   "metadata": {},
   "outputs": [],
   "source": [
    "import collections"
   ]
  },
  {
   "cell_type": "code",
   "execution_count": 5,
   "metadata": {},
   "outputs": [],
   "source": [
    "d=collections.ChainMap(d1,d2)"
   ]
  },
  {
   "cell_type": "code",
   "execution_count": 6,
   "metadata": {},
   "outputs": [
    {
     "data": {
      "text/plain": [
       "ChainMap({'a': 1, 'b': 2, 'c': 3}, {'d': 4, 'e': 5, 'f': 6})"
      ]
     },
     "execution_count": 6,
     "metadata": {},
     "output_type": "execute_result"
    }
   ],
   "source": [
    "d"
   ]
  },
  {
   "cell_type": "code",
   "execution_count": 7,
   "metadata": {},
   "outputs": [],
   "source": [
    "d2['e']=10"
   ]
  },
  {
   "cell_type": "code",
   "execution_count": 13,
   "metadata": {},
   "outputs": [
    {
     "name": "stdout",
     "output_type": "stream",
     "text": [
      "d 4\n",
      "e 10\n",
      "f 6\n",
      "a 1\n",
      "b 2\n",
      "c 3\n"
     ]
    }
   ],
   "source": [
    "for key,val in d.items():\n",
    "    print(key,val)"
   ]
  },
  {
   "attachments": {},
   "cell_type": "markdown",
   "metadata": {},
   "source": [
    "### Linked List. \n",
    "### adding at begin, in between, at end and removing."
   ]
  },
  {
   "cell_type": "code",
   "execution_count": 21,
   "metadata": {},
   "outputs": [
    {
     "name": "stdout",
     "output_type": "stream",
     "text": [
      "sun\n",
      "mon\n",
      "tue\n",
      "fri\n",
      "wed\n",
      "thu\n"
     ]
    }
   ],
   "source": [
    "class node:\n",
    "    def __init__(self,data=None):\n",
    "        self.data=data\n",
    "        self.next=None\n",
    "class slink:\n",
    "    def __init__(self):\n",
    "        self.head=None\n",
    "    def atbegin(self,n):\n",
    "        ne=node(n)\n",
    "        ne.next=self.head\n",
    "        self.head=ne\n",
    "    def inbet(self,mid,new):\n",
    "        newn=node(new)\n",
    "        if mid is None:\n",
    "            return\n",
    "        newn.next=mid.next\n",
    "        mid.next=newn\n",
    "    def atend(self,newnode):\n",
    "        newnoden=node(newnode)\n",
    "        if self.head is None:\n",
    "            self.head=newnoden\n",
    "            return\n",
    "        last=self.head\n",
    "        while last.next is not None:\n",
    "            last=last.next\n",
    "        last.next=newnoden\n",
    "    def remo(self,val):\n",
    "        if self.head is None:\n",
    "            return\n",
    "        if self.head==val:\n",
    "            self.head=self.head.next\n",
    "            return\n",
    "        current_node=self.head\n",
    "        while current_node is not None:\n",
    "            if self.head.next==val:\n",
    "                self.head.next=self.head.next.next\n",
    "                return\n",
    "            current_node=current_node.next\n",
    "    def pri(self):\n",
    "        printv=self.head\n",
    "        while printv is not None:\n",
    "            print(printv.data)\n",
    "            printv=printv.next\n",
    "d=slink()\n",
    "d.head=node('mon')\n",
    "e2=node('tue')\n",
    "e3=node('wed')\n",
    "d.head.next=e2\n",
    "e2.next=e3\n",
    "d.atbegin('sun')\n",
    "d.inbet(e2,'fri')\n",
    "d.atend('thu')\n",
    "d.pri()\n",
    "d.remo('fri')"
   ]
  },
  {
   "attachments": {},
   "cell_type": "markdown",
   "metadata": {},
   "source": [
    "### Stack.\n",
    "### LIFO- last in first out."
   ]
  },
  {
   "cell_type": "code",
   "execution_count": 1,
   "metadata": {},
   "outputs": [
    {
     "data": {
      "text/plain": [
       "'tue'"
      ]
     },
     "execution_count": 1,
     "metadata": {},
     "output_type": "execute_result"
    }
   ],
   "source": [
    "class stack:\n",
    "    def __init__(self):\n",
    "        self.stack=[]\n",
    "    def push(self,data):\n",
    "        if data not in self.stack:\n",
    "            return self.stack.append(data)\n",
    "    def peek(self):\n",
    "        return self.stack[-1]\n",
    "    def pop(self):\n",
    "        return self.stack.pop()\n",
    "s=stack()\n",
    "s.push('mon')\n",
    "s.push('tue')\n",
    "s.pop()"
   ]
  },
  {
   "attachments": {},
   "cell_type": "markdown",
   "metadata": {},
   "source": [
    "### Queue.\n",
    "### FIFO- First In First Out"
   ]
  },
  {
   "cell_type": "code",
   "execution_count": 2,
   "metadata": {},
   "outputs": [
    {
     "data": {
      "text/plain": [
       "'mon'"
      ]
     },
     "execution_count": 2,
     "metadata": {},
     "output_type": "execute_result"
    }
   ],
   "source": [
    "class queue:\n",
    "    def __init__(self):\n",
    "        self.queue=list()\n",
    "    def push(self,data):\n",
    "        if data not in self.queue:\n",
    "            return self.queue.insert(0,data)\n",
    "        return self.queue\n",
    "    def pop(self):\n",
    "        return self.queue.pop()\n",
    "    \n",
    "q=queue()\n",
    "q.push('mon')\n",
    "q.push('tue')\n",
    "q.pop()"
   ]
  },
  {
   "cell_type": "code",
   "execution_count": 3,
   "metadata": {},
   "outputs": [],
   "source": [
    "d={'a','b','c','d'}"
   ]
  },
  {
   "attachments": {},
   "cell_type": "markdown",
   "metadata": {},
   "source": [
    "### Deque- can append and pop both sides."
   ]
  },
  {
   "cell_type": "code",
   "execution_count": 5,
   "metadata": {},
   "outputs": [],
   "source": [
    "import collections"
   ]
  },
  {
   "cell_type": "code",
   "execution_count": 7,
   "metadata": {},
   "outputs": [],
   "source": [
    "s=collections.deque(d)"
   ]
  },
  {
   "cell_type": "code",
   "execution_count": 8,
   "metadata": {},
   "outputs": [],
   "source": [
    "s.append('e')"
   ]
  },
  {
   "cell_type": "code",
   "execution_count": 9,
   "metadata": {},
   "outputs": [],
   "source": [
    "s.appendleft('s')"
   ]
  },
  {
   "cell_type": "code",
   "execution_count": 10,
   "metadata": {},
   "outputs": [
    {
     "data": {
      "text/plain": [
       "deque(['s', 'a', 'b', 'd', 'c', 'e'])"
      ]
     },
     "execution_count": 10,
     "metadata": {},
     "output_type": "execute_result"
    }
   ],
   "source": [
    "s"
   ]
  },
  {
   "cell_type": "code",
   "execution_count": 11,
   "metadata": {},
   "outputs": [
    {
     "data": {
      "text/plain": [
       "'e'"
      ]
     },
     "execution_count": 11,
     "metadata": {},
     "output_type": "execute_result"
    }
   ],
   "source": [
    "s.pop()"
   ]
  },
  {
   "cell_type": "code",
   "execution_count": 13,
   "metadata": {},
   "outputs": [
    {
     "data": {
      "text/plain": [
       "'s'"
      ]
     },
     "execution_count": 13,
     "metadata": {},
     "output_type": "execute_result"
    }
   ],
   "source": [
    "s.popleft()"
   ]
  },
  {
   "cell_type": "code",
   "execution_count": 14,
   "metadata": {},
   "outputs": [
    {
     "data": {
      "text/plain": [
       "deque(['a', 'b', 'd', 'c'])"
      ]
     },
     "execution_count": 14,
     "metadata": {},
     "output_type": "execute_result"
    }
   ],
   "source": [
    "s"
   ]
  },
  {
   "attachments": {},
   "cell_type": "markdown",
   "metadata": {},
   "source": [
    "### Doubly Linked List- adding at begin, in between, at end"
   ]
  },
  {
   "cell_type": "code",
   "execution_count": 22,
   "metadata": {},
   "outputs": [
    {
     "name": "stdout",
     "output_type": "stream",
     "text": [
      "sun\n",
      "mon\n",
      "tue\n",
      "fri\n",
      "wed\n",
      "sat\n"
     ]
    }
   ],
   "source": [
    "class node:\n",
    "    def __init__(self,data=None):\n",
    "        self.data=data\n",
    "        self.next=None\n",
    "        self.prev=None\n",
    "class dl:\n",
    "    def __init__(self):\n",
    "        self.head=None\n",
    "    def atbegin(self,n):\n",
    "        ne=node(n)\n",
    "        if self.head is None:\n",
    "            self.head=ne\n",
    "        ne.next=self.head\n",
    "        self.prev=ne\n",
    "        self.head=ne\n",
    "    def inbet(self,middle,new):\n",
    "        newnode=node(new)\n",
    "        if middle is None:\n",
    "            return\n",
    "        newnode.next=middle.next\n",
    "        middle.next=newnode\n",
    "        newnode.prev=middle\n",
    "        if newnode.next is not None:\n",
    "            newnode.next.prev=newnode\n",
    "    def atend(self,neww):\n",
    "        newwnode=node(neww)\n",
    "        newwnode.next=None\n",
    "        if self.head is None:\n",
    "            self.head=newwnode\n",
    "        last=self.head\n",
    "        while last.next is not None:\n",
    "            last=last.next\n",
    "        last.next=newwnode\n",
    "        newwnode.prev=last\n",
    "    def printi(self):\n",
    "        printval=self.head\n",
    "        while printval is not None:\n",
    "            print(printval.data)\n",
    "            printval=printval.next\n",
    "s=dl()\n",
    "s.head=node('mon')\n",
    "e2=node('tue')\n",
    "e3=node('wed')\n",
    "s.head.next=e2\n",
    "e2.next=e3\n",
    "s.atbegin('sun')\n",
    "s.inbet(e2,'fri')\n",
    "s.atend('sat')\n",
    "s.printi()"
   ]
  },
  {
   "attachments": {},
   "cell_type": "markdown",
   "metadata": {},
   "source": [
    "### Heap."
   ]
  },
  {
   "cell_type": "code",
   "execution_count": 23,
   "metadata": {},
   "outputs": [],
   "source": [
    "import heapq"
   ]
  },
  {
   "cell_type": "code",
   "execution_count": 25,
   "metadata": {},
   "outputs": [],
   "source": [
    "\n",
    "H=[3,98,4,5,67]\n",
    "heapq.heapify(H)"
   ]
  },
  {
   "cell_type": "code",
   "execution_count": 26,
   "metadata": {},
   "outputs": [
    {
     "data": {
      "text/plain": [
       "[3, 5, 4, 98, 67]"
      ]
     },
     "execution_count": 26,
     "metadata": {},
     "output_type": "execute_result"
    }
   ],
   "source": [
    "H"
   ]
  },
  {
   "cell_type": "code",
   "execution_count": 28,
   "metadata": {},
   "outputs": [
    {
     "data": {
      "text/plain": [
       "3"
      ]
     },
     "execution_count": 28,
     "metadata": {},
     "output_type": "execute_result"
    }
   ],
   "source": [
    "heapq.heappop(H)"
   ]
  },
  {
   "cell_type": "code",
   "execution_count": 30,
   "metadata": {},
   "outputs": [],
   "source": [
    "heapq.heappush(H,4)"
   ]
  },
  {
   "cell_type": "code",
   "execution_count": 31,
   "metadata": {},
   "outputs": [
    {
     "data": {
      "text/plain": [
       "[4, 4, 67, 98, 5]"
      ]
     },
     "execution_count": 31,
     "metadata": {},
     "output_type": "execute_result"
    }
   ],
   "source": [
    "H"
   ]
  },
  {
   "cell_type": "code",
   "execution_count": 33,
   "metadata": {},
   "outputs": [
    {
     "data": {
      "text/plain": [
       "4"
      ]
     },
     "execution_count": 33,
     "metadata": {},
     "output_type": "execute_result"
    }
   ],
   "source": [
    "heapq.heapreplace(H,4)"
   ]
  },
  {
   "cell_type": "code",
   "execution_count": 34,
   "metadata": {},
   "outputs": [
    {
     "data": {
      "text/plain": [
       "[4, 4, 67, 98, 5]"
      ]
     },
     "execution_count": 34,
     "metadata": {},
     "output_type": "execute_result"
    }
   ],
   "source": [
    "H"
   ]
  },
  {
   "attachments": {},
   "cell_type": "markdown",
   "metadata": {},
   "source": [
    "### B-Tree.\n",
    "### Inordertraversal- left-root-right\n",
    "### Preordertraversal- root-left-right\n",
    "### Postordertraversal- left-right-root"
   ]
  },
  {
   "cell_type": "code",
   "execution_count": 38,
   "metadata": {},
   "outputs": [
    {
     "name": "stdout",
     "output_type": "stream",
     "text": [
      "5\n",
      "8\n",
      "15\n",
      "18\n",
      "20\n",
      "[5, 8, 15, 18, 20]\n"
     ]
    }
   ],
   "source": [
    "class node:\n",
    "    def __init__(self,data=None):\n",
    "        self.data=data\n",
    "        self.left=None\n",
    "        self.right=None\n",
    "    def insert(self,data):\n",
    "        if self.data:\n",
    "            if data<self.data:\n",
    "                if self.left is None:\n",
    "                    self.left=node(data)\n",
    "                else:\n",
    "                    self.left.insert(data)\n",
    "            elif data>self.data:\n",
    "                if self.right is None:\n",
    "                    self.right=node(data)\n",
    "                else:\n",
    "                    self.right.insert(data)\n",
    "        else:\n",
    "            self.data=data\n",
    "    def inordertraversal(self,root):\n",
    "        res=[]\n",
    "        if root:\n",
    "            res=self.inordertraversal(root.left)\n",
    "            res.append(root.data)\n",
    "            res=res+self.inordertraversal(root.right)\n",
    "        return res\n",
    "\n",
    "    def printt(self):\n",
    "        if self.left:\n",
    "            self.left.printt()\n",
    "        print(self.data),\n",
    "        if self.right:\n",
    "            self.right.printt()\n",
    "\n",
    "root=node()\n",
    "root.insert(15)\n",
    "root.insert(8)\n",
    "root.insert(5)\n",
    "root.insert(18)\n",
    "root.insert(20)\n",
    "root.printt()\n",
    "print(root.inordertraversal(root))\n",
    "\n",
    "        "
   ]
  },
  {
   "attachments": {},
   "cell_type": "markdown",
   "metadata": {},
   "source": [
    "### searching in BTree."
   ]
  },
  {
   "cell_type": "code",
   "execution_count": 43,
   "metadata": {},
   "outputs": [
    {
     "name": "stdout",
     "output_type": "stream",
     "text": [
      "8\n",
      "10\n",
      "15\n",
      "18\n",
      "20\n"
     ]
    },
    {
     "data": {
      "text/plain": [
       "'8found'"
      ]
     },
     "execution_count": 43,
     "metadata": {},
     "output_type": "execute_result"
    }
   ],
   "source": [
    "class node:\n",
    "    def __init__(self,data=None):\n",
    "        self.data=data\n",
    "        self.left=None\n",
    "        self.right=None\n",
    "    def insert(self,data):\n",
    "        if self.data:\n",
    "            if data<self.data:\n",
    "                if self.left is None:\n",
    "                    self.left=node(data)\n",
    "                else:\n",
    "                    self.left.insert(data)\n",
    "            elif data>self.data:\n",
    "                if self.right is None:\n",
    "                    self.right=node(data)\n",
    "                else:\n",
    "                    self.right.insert(data)\n",
    "        else:\n",
    "            self.data=data\n",
    "    def findval(self,val):\n",
    "        if val<self.data:\n",
    "            if self.left is None:\n",
    "                return\n",
    "            return self.left.findval(val)\n",
    "        elif val>self.data:\n",
    "            if self.right is None:\n",
    "                return\n",
    "            return self.right.findval(val)\n",
    "        else:\n",
    "            return str(self.data)+'found'\n",
    "    def printt(self):\n",
    "        if self.left:\n",
    "            self.left.printt()\n",
    "        print(self.data),\n",
    "        if self.right:\n",
    "            self.right.printt()\n",
    "root=node()\n",
    "root.insert(15)\n",
    "root.insert(10)\n",
    "root.insert(8)\n",
    "root.insert(18)\n",
    "root.insert(20)\n",
    "root.printt()\n",
    "root.findval(8)\n",
    "\n",
    "\n"
   ]
  },
  {
   "attachments": {},
   "cell_type": "markdown",
   "metadata": {},
   "source": [
    "### Graph\n",
    "### displaying vertices and adding vertices"
   ]
  },
  {
   "cell_type": "code",
   "execution_count": 51,
   "metadata": {},
   "outputs": [
    {
     "data": {
      "text/plain": [
       "['a', 'b', 'c', 'd', 'e', 'f']"
      ]
     },
     "execution_count": 51,
     "metadata": {},
     "output_type": "execute_result"
    }
   ],
   "source": [
    "class graph:\n",
    "    def __init__(self,gdict=None):\n",
    "        if gdict is None:\n",
    "            self.gdict={}\n",
    "        self.gdict=gdict\n",
    "    def vertices(self):\n",
    "        return list(self.gdict.keys())\n",
    "    def addvertex(self,vrtx):\n",
    "        if vrtx not in self.gdict:\n",
    "            self.gdict[vrtx]=[]\n",
    "\n",
    "graph_elements={ \"a\" : [\"b\",\"c\"],\n",
    "                 \"b\" : [\"a\", \"d\"],\n",
    "                 \"c\" : [\"a\", \"d\"],\n",
    "                 \"d\" : [\"e\"],\n",
    "                 \"e\" : [\"d\"]\n",
    "                 }\n",
    "g=graph(graph_elements)\n",
    "g.vertices()\n",
    "g.addvertex('f')\n",
    "g.vertices()\n"
   ]
  },
  {
   "attachments": {},
   "cell_type": "markdown",
   "metadata": {},
   "source": [
    "### displaying edges and adding edges."
   ]
  },
  {
   "cell_type": "code",
   "execution_count": 55,
   "metadata": {},
   "outputs": [
    {
     "data": {
      "text/plain": [
       "[{'a', 'b'}, {'a', 'c'}, {'b', 'd'}, {'c', 'd'}, {'d', 'e'}]"
      ]
     },
     "execution_count": 55,
     "metadata": {},
     "output_type": "execute_result"
    }
   ],
   "source": [
    "class graph:\n",
    "    def __init__(self,gdict=None):\n",
    "        if gdict is None:\n",
    "            self.gdict={}\n",
    "        self.gdict=gdict\n",
    "    def findedges(self):\n",
    "        edgename=[]\n",
    "        for vrtx in self.gdict:\n",
    "            for nvrtx in self.gdict[vrtx]:\n",
    "                if {nvrtx,vrtx} not in edgename:\n",
    "                    edgename.append({vrtx,nvrtx})\n",
    "        return edgename\n",
    "\n",
    "graph_elements={ \"a\" : [\"b\",\"c\"],\n",
    "                 \"b\" : [\"a\", \"d\"],\n",
    "                 \"c\" : [\"a\", \"d\"],\n",
    "                 \"d\" : [\"e\"],\n",
    "                 \"e\" : [\"d\"]\n",
    "                 }\n",
    "g=graph(graph_elements)\n",
    "g.findedges()\n"
   ]
  },
  {
   "cell_type": "code",
   "execution_count": 56,
   "metadata": {},
   "outputs": [
    {
     "data": {
      "text/plain": [
       "[{'a', 'b'}, {'a', 'c'}, {'b', 'd'}, {'c', 'd'}, {'d', 'e'}, {'a', 'e'}]"
      ]
     },
     "execution_count": 56,
     "metadata": {},
     "output_type": "execute_result"
    }
   ],
   "source": [
    "class graph:\n",
    "    def __init__(self,gdict=None):\n",
    "        if gdict is None:\n",
    "            self.gdict={}\n",
    "        self.gdict=gdict\n",
    "    def addedge(self,edge):\n",
    "        edge=set(edge)\n",
    "        (vrtx1,vrtx2)=tuple(edge)\n",
    "        if vrtx1 in self.gdict:\n",
    "            self.gdict[vrtx1].append(vrtx2)\n",
    "        else:\n",
    "            self.gdict[vrtx1]=vrtx2\n",
    "    def findedges(self):\n",
    "        edgename=[]\n",
    "        for vrtx in self.gdict:\n",
    "            for nvrtx in self.gdict[vrtx]:\n",
    "                if {nvrtx,vrtx} not in edgename:\n",
    "                    edgename.append({vrtx,nvrtx})\n",
    "        return edgename\n",
    "\n",
    "graph_elements={ \"a\" : [\"b\",\"c\"],\n",
    "                 \"b\" : [\"a\", \"d\"],\n",
    "                 \"c\" : [\"a\", \"d\"],\n",
    "                 \"d\" : [\"e\"],\n",
    "                 \"e\" : [\"d\"]\n",
    "                 }\n",
    "g=graph(graph_elements)\n",
    "g.findedges()\n",
    "g.addedge({'a','e'})\n",
    "g.findedges()"
   ]
  },
  {
   "attachments": {},
   "cell_type": "markdown",
   "metadata": {},
   "source": [
    "### Binary Search"
   ]
  },
  {
   "cell_type": "code",
   "execution_count": 61,
   "metadata": {},
   "outputs": [
    {
     "name": "stdout",
     "output_type": "stream",
     "text": [
      "2\n"
     ]
    }
   ],
   "source": [
    "def search(list,val):\n",
    "    list_size=len(list)-1\n",
    "    idx0=0\n",
    "    idxn=list_size\n",
    "    while idx0<=idxn:\n",
    "        mid=(idx0+idxn)//2\n",
    "        if val==list[mid]:\n",
    "            return mid\n",
    "        if val>list[mid]:\n",
    "            idx0=mid+1\n",
    "        else:\n",
    "            idxn=mid-1\n",
    "    if idx0>idxn:\n",
    "        return None\n",
    "list=[2,7,19,34,53,72]\n",
    "print(search(list,19))"
   ]
  },
  {
   "attachments": {},
   "cell_type": "markdown",
   "metadata": {},
   "source": [
    "### Binary search recursion."
   ]
  },
  {
   "cell_type": "code",
   "execution_count": 1,
   "metadata": {},
   "outputs": [
    {
     "name": "stdout",
     "output_type": "stream",
     "text": [
      "5\n"
     ]
    }
   ],
   "source": [
    "def search(list,val,idx0,idxn):\n",
    "    if idx0>idxn:\n",
    "        return None\n",
    "    mid=(idx0+idxn)//2\n",
    "    if idx0<=idxn:\n",
    "        if val==list[mid]:\n",
    "            return mid\n",
    "        if val<list[mid]:\n",
    "            return search(list,val,idx0,mid-1)\n",
    "        if val>list[mid]:\n",
    "            return search(list,val,mid+1,idxn)\n",
    "list=[2,7,19,34,53,72]\n",
    "print(search(list,72,0,5))"
   ]
  },
  {
   "attachments": {},
   "cell_type": "markdown",
   "metadata": {},
   "source": [
    "### Backtracking."
   ]
  },
  {
   "cell_type": "code",
   "execution_count": 70,
   "metadata": {},
   "outputs": [
    {
     "name": "stdout",
     "output_type": "stream",
     "text": [
      "['aa', 'ab', 'ac', 'ba', 'bb', 'bc', 'ca', 'cb', 'cc']\n"
     ]
    }
   ],
   "source": [
    "def permute(list,s):\n",
    "    if list==1:\n",
    "        return s\n",
    "    else:\n",
    "        return [y+x\n",
    "         for y in permute(1,s)\n",
    "         for x in permute(list-1,s)]\n",
    "\n",
    "print(permute(2,['a','b','c']))"
   ]
  },
  {
   "attachments": {},
   "cell_type": "markdown",
   "metadata": {},
   "source": [
    "### bubble sort."
   ]
  },
  {
   "cell_type": "code",
   "execution_count": 74,
   "metadata": {},
   "outputs": [
    {
     "name": "stdout",
     "output_type": "stream",
     "text": [
      "[2, 6, 11, 19, 27, 31, 45, 121]\n"
     ]
    }
   ],
   "source": [
    "def bsort(list):\n",
    "    for num in range(len(list)-1,0,-1):\n",
    "        for idx in range(num):\n",
    "            if list[idx]>list[idx+1]:\n",
    "                temp=list[idx+1]\n",
    "                list[idx+1]=list[idx]\n",
    "                list[idx]=temp\n",
    "list = [19,2,31,45,6,11,121,27]\n",
    "bsort(list)\n",
    "print(list)"
   ]
  },
  {
   "attachments": {},
   "cell_type": "markdown",
   "metadata": {},
   "source": [
    "### merge sort"
   ]
  },
  {
   "cell_type": "code",
   "execution_count": 85,
   "metadata": {},
   "outputs": [
    {
     "name": "stdout",
     "output_type": "stream",
     "text": [
      "[11, 12, 22, 25, 34, 64, 90]\n"
     ]
    }
   ],
   "source": [
    "def mergesort(unsorted):\n",
    "    if len(unsorted)<=1:\n",
    "        return unsorted\n",
    "    mid=len(unsorted)//2\n",
    "    left_side=unsorted[:mid]\n",
    "    right_side=unsorted[mid:]\n",
    "    left_side=mergesort(left_side)\n",
    "    right_side=mergesort(right_side)\n",
    "    return merge(left_side,right_side)\n",
    "def merge(left_half,right_half):\n",
    "    res=[]\n",
    "    while len(left_half)!=0 and len(right_half)!=0:\n",
    "        if left_half[0]<right_half[0]:\n",
    "            res.append(left_half[0])\n",
    "            left_half.remove(left_half[0])\n",
    "        else:\n",
    "            res.append(right_half[0])\n",
    "            right_half.remove(right_half[0])\n",
    "    if len(left_half)==0:\n",
    "        res=res+right_half\n",
    "    else:\n",
    "        res=res+left_half\n",
    "    return res\n",
    "\n",
    "\n",
    "unsorted_list = [64, 34, 25, 12, 22, 11, 90] \n",
    "print(mergesort(unsorted_list))"
   ]
  },
  {
   "attachments": {},
   "cell_type": "markdown",
   "metadata": {},
   "source": [
    "### insertion sort"
   ]
  },
  {
   "cell_type": "code",
   "execution_count": 100,
   "metadata": {},
   "outputs": [
    {
     "name": "stdout",
     "output_type": "stream",
     "text": [
      "[2, 6, 11, 19, 27, 31, 45, 121]\n"
     ]
    }
   ],
   "source": [
    "def insertionsort(inputlist):\n",
    "    for i in range(1,len(inputlist)):\n",
    "        j=i-1\n",
    "        nxt=inputlist[i]\n",
    "        while (inputlist[j]>nxt) and j>=0:\n",
    "            inputlist[j+1]=inputlist[j]\n",
    "            j=j-1\n",
    "        inputlist[j+1]=nxt\n",
    "    return inputlist\n",
    "    \n",
    "my_list=[19,2,31,45,6,11,121,27]\n",
    "sorted_list = insertionsort(my_list)\n",
    "print(sorted_list)\n"
   ]
  },
  {
   "attachments": {},
   "cell_type": "markdown",
   "metadata": {},
   "source": [
    "### shell sort"
   ]
  },
  {
   "cell_type": "code",
   "execution_count": 110,
   "metadata": {},
   "outputs": [
    {
     "name": "stdout",
     "output_type": "stream",
     "text": [
      "[2, 6, 11, 19, 27, 31, 45, 121]\n"
     ]
    }
   ],
   "source": [
    "def shell(unsorted):\n",
    "    gap=len(unsorted)//2\n",
    "    while gap>0:\n",
    "        for i in range(gap,len(unsorted)):\n",
    "            temp=unsorted[i]\n",
    "            j=i \n",
    "            while j>=gap and unsorted[j-gap]>temp:\n",
    "                unsorted[j]=unsorted[j-gap]\n",
    "                j=j-gap\n",
    "            unsorted[j]=temp\n",
    "        gap=gap//2\n",
    "    return unsorted\n",
    "my_list=[19,2,31,45,6,11,121,27]\n",
    "sorted_list = shell(my_list)\n",
    "print(sorted_list)"
   ]
  },
  {
   "attachments": {},
   "cell_type": "markdown",
   "metadata": {},
   "source": [
    "### selection sort"
   ]
  },
  {
   "cell_type": "code",
   "execution_count": 115,
   "metadata": {},
   "outputs": [
    {
     "name": "stdout",
     "output_type": "stream",
     "text": [
      "[2, 6, 11, 19, 27, 31, 45, 121]\n"
     ]
    }
   ],
   "source": [
    "def selection(unsorted):\n",
    "    for i in range(len(unsorted)):\n",
    "        min_idx=i\n",
    "        for j in range(i+1,len(unsorted)):\n",
    "            if unsorted[min_idx]>unsorted[j]:\n",
    "                min_idx=j\n",
    "        unsorted[i],unsorted[min_idx]=unsorted[min_idx],unsorted[i]\n",
    "    return unsorted\n",
    "my_list=[19,2,31,45,6,11,121,27]\n",
    "print(selection(my_list))"
   ]
  },
  {
   "cell_type": "code",
   "execution_count": 9,
   "metadata": {},
   "outputs": [],
   "source": [
    "def groupAnagrams(strs):\n",
    "    anagram_groups = {}\n",
    "    for word in strs:\n",
    "        sorted_word = ''.join(sorted(word))\n",
    "        if sorted_word in anagram_groups:\n",
    "            anagram_groups[sorted_word].append(word)\n",
    "        else:\n",
    "            anagram_groups[sorted_word] = [word]\n",
    "    return anagram_groups.values()\n"
   ]
  },
  {
   "cell_type": "code",
   "execution_count": 11,
   "metadata": {},
   "outputs": [],
   "source": [
    "s = \"A man, a plan, a canal: Panama\""
   ]
  },
  {
   "cell_type": "code",
   "execution_count": 15,
   "metadata": {},
   "outputs": [
    {
     "data": {
      "text/plain": [
       "'amanaP lanac a nalp a nam A'"
      ]
     },
     "execution_count": 15,
     "metadata": {},
     "output_type": "execute_result"
    }
   ],
   "source": [
    "s[::-1].replace(',','').replace(':','')"
   ]
  },
  {
   "cell_type": "code",
   "execution_count": 17,
   "metadata": {},
   "outputs": [],
   "source": [
    "s = ''.join(c.lower() for c in s if c.isalnum())"
   ]
  },
  {
   "cell_type": "code",
   "execution_count": 18,
   "metadata": {},
   "outputs": [
    {
     "data": {
      "text/plain": [
       "'amanaplanacanalpanama'"
      ]
     },
     "execution_count": 18,
     "metadata": {},
     "output_type": "execute_result"
    }
   ],
   "source": [
    "s"
   ]
  },
  {
   "cell_type": "code",
   "execution_count": 19,
   "metadata": {},
   "outputs": [],
   "source": [
    "l=[2, 6, 11, 19, 27, 31, 45, 121]"
   ]
  },
  {
   "cell_type": "code",
   "execution_count": 38,
   "metadata": {},
   "outputs": [
    {
     "name": "stdout",
     "output_type": "stream",
     "text": [
      "sun\n",
      "mon\n",
      "tue\n",
      "wed\n",
      "fri\n",
      "thu\n"
     ]
    }
   ],
   "source": [
    "class node:\n",
    "    def __init__(self,data=None):\n",
    "        self.data=data\n",
    "        self.next=None\n",
    "class slink:\n",
    "    def __init__(self):\n",
    "        self.head=None\n",
    "    def atbegin(self,new):\n",
    "        newnode=node(new)\n",
    "        newnode.next=self.head\n",
    "        self.head=newnode\n",
    "    def inbet(self,mid,ne):\n",
    "        newn=node(ne)\n",
    "        if mid is None:\n",
    "            return\n",
    "        newn.next=mid.next\n",
    "        mid.next=newn\n",
    "    def atend(self,n):\n",
    "        newno=node(n)\n",
    "        newno.next=None\n",
    "        if self.head is None:\n",
    "            return newno\n",
    "        last=self.head\n",
    "        while last.next is not None:\n",
    "            last=last.next\n",
    "        last.next=newno\n",
    "    def rem(self,val):\n",
    "        if self.head==val:\n",
    "            self.head=self.head.next\n",
    "            last=self.head\n",
    "            while last is not None:\n",
    "                if last.next==val:\n",
    "                    last.next=last.next.next\n",
    "                    return\n",
    "                last=last.next\n",
    "    def printi(self):\n",
    "        prin=self.head\n",
    "        while prin is not None:\n",
    "            print(prin.data)\n",
    "            prin=prin.next\n",
    "d=slink()\n",
    "d.head=node('mon')\n",
    "e2=node('tue')\n",
    "e3=node('wed')\n",
    "d.head.next=e2\n",
    "e2.next=e3\n",
    "d.atbegin('sun')\n",
    "d.inbet(e3,'fri')\n",
    "d.atend('thu')\n",
    "d.rem('sun')\n",
    "d.printi()"
   ]
  }
 ],
 "metadata": {
  "kernelspec": {
   "display_name": "tensorflow",
   "language": "python",
   "name": "python3"
  },
  "language_info": {
   "codemirror_mode": {
    "name": "ipython",
    "version": 3
   },
   "file_extension": ".py",
   "mimetype": "text/x-python",
   "name": "python",
   "nbconvert_exporter": "python",
   "pygments_lexer": "ipython3",
   "version": "3.10.10"
  },
  "orig_nbformat": 4
 },
 "nbformat": 4,
 "nbformat_minor": 2
}
