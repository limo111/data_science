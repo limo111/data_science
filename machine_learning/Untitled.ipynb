{
 "cells": [
  {
   "cell_type": "code",
   "execution_count": 1,
   "id": "b5eb7020",
   "metadata": {},
   "outputs": [
    {
     "name": "stdout",
     "output_type": "stream",
     "text": [
      "zsh:1: no matches found: nbconvert[webpdf]\n",
      "Note: you may need to restart the kernel to use updated packages.\n"
     ]
    }
   ],
   "source": [
    "pip install nbconvert[webpdf]"
   ]
  },
  {
   "cell_type": "code",
   "execution_count": 2,
   "id": "d8ace3c5",
   "metadata": {},
   "outputs": [
    {
     "name": "stdout",
     "output_type": "stream",
     "text": [
      "zsh:1: no matches found: nbconvert[webpdf]\r\n"
     ]
    }
   ],
   "source": [
    "!pip install nbconvert[webpdf]"
   ]
  },
  {
   "cell_type": "code",
   "execution_count": 6,
   "id": "34c61ca7",
   "metadata": {},
   "outputs": [
    {
     "name": "stdout",
     "output_type": "stream",
     "text": [
      "\u001b[31mERROR: Invalid requirement: 'nbconvert --allow-chromium-download'\u001b[0m\u001b[31m\r\n",
      "\u001b[0m"
     ]
    }
   ],
   "source": [
    "!pip install 'nbconvert --allow-chromium-download'\n"
   ]
  },
  {
   "cell_type": "code",
   "execution_count": 7,
   "id": "532de52e",
   "metadata": {},
   "outputs": [
    {
     "name": "stdout",
     "output_type": "stream",
     "text": [
      "Requirement already satisfied: nbconvert in /Users/arvindramesh/miniconda3/lib/python3.10/site-packages (6.5.4)\n",
      "Requirement already satisfied: lxml in /Users/arvindramesh/miniconda3/lib/python3.10/site-packages (from nbconvert) (4.9.1)\n",
      "Requirement already satisfied: beautifulsoup4 in /Users/arvindramesh/miniconda3/lib/python3.10/site-packages (from nbconvert) (4.11.1)\n",
      "Requirement already satisfied: bleach in /Users/arvindramesh/miniconda3/lib/python3.10/site-packages (from nbconvert) (4.1.0)\n",
      "Requirement already satisfied: traitlets>=5.0 in /Users/arvindramesh/miniconda3/lib/python3.10/site-packages (from nbconvert) (5.7.1)\n",
      "Requirement already satisfied: nbclient>=0.5.0 in /Users/arvindramesh/miniconda3/lib/python3.10/site-packages (from nbconvert) (0.5.13)\n",
      "Requirement already satisfied: packaging in /Users/arvindramesh/miniconda3/lib/python3.10/site-packages (from nbconvert) (22.0)\n",
      "Requirement already satisfied: tinycss2 in /Users/arvindramesh/miniconda3/lib/python3.10/site-packages (from nbconvert) (1.2.1)\n",
      "Requirement already satisfied: defusedxml in /Users/arvindramesh/miniconda3/lib/python3.10/site-packages (from nbconvert) (0.7.1)\n",
      "Requirement already satisfied: mistune<2,>=0.8.1 in /Users/arvindramesh/miniconda3/lib/python3.10/site-packages (from nbconvert) (0.8.4)\n",
      "Requirement already satisfied: nbformat>=5.1 in /Users/arvindramesh/miniconda3/lib/python3.10/site-packages (from nbconvert) (5.7.0)\n",
      "Requirement already satisfied: entrypoints>=0.2.2 in /Users/arvindramesh/miniconda3/lib/python3.10/site-packages (from nbconvert) (0.4)\n",
      "Requirement already satisfied: MarkupSafe>=2.0 in /Users/arvindramesh/miniconda3/lib/python3.10/site-packages (from nbconvert) (2.1.1)\n",
      "Requirement already satisfied: pandocfilters>=1.4.1 in /Users/arvindramesh/miniconda3/lib/python3.10/site-packages (from nbconvert) (1.5.0)\n",
      "Requirement already satisfied: pygments>=2.4.1 in /Users/arvindramesh/miniconda3/lib/python3.10/site-packages (from nbconvert) (2.11.2)\n",
      "Requirement already satisfied: jupyterlab-pygments in /Users/arvindramesh/miniconda3/lib/python3.10/site-packages (from nbconvert) (0.1.2)\n",
      "Requirement already satisfied: jupyter-core>=4.7 in /Users/arvindramesh/miniconda3/lib/python3.10/site-packages (from nbconvert) (5.1.1)\n",
      "Requirement already satisfied: jinja2>=3.0 in /Users/arvindramesh/miniconda3/lib/python3.10/site-packages (from nbconvert) (3.1.2)\n",
      "Requirement already satisfied: platformdirs>=2.5 in /Users/arvindramesh/miniconda3/lib/python3.10/site-packages (from jupyter-core>=4.7->nbconvert) (2.5.2)\n",
      "Requirement already satisfied: nest-asyncio in /Users/arvindramesh/miniconda3/lib/python3.10/site-packages (from nbclient>=0.5.0->nbconvert) (1.5.6)\n",
      "Requirement already satisfied: jupyter-client>=6.1.5 in /Users/arvindramesh/miniconda3/lib/python3.10/site-packages (from nbclient>=0.5.0->nbconvert) (7.4.8)\n",
      "Requirement already satisfied: jsonschema>=2.6 in /Users/arvindramesh/miniconda3/lib/python3.10/site-packages (from nbformat>=5.1->nbconvert) (4.16.0)\n",
      "Requirement already satisfied: fastjsonschema in /Users/arvindramesh/miniconda3/lib/python3.10/site-packages (from nbformat>=5.1->nbconvert) (2.16.2)\n",
      "Requirement already satisfied: soupsieve>1.2 in /Users/arvindramesh/miniconda3/lib/python3.10/site-packages (from beautifulsoup4->nbconvert) (2.3.2.post1)\n",
      "Requirement already satisfied: webencodings in /Users/arvindramesh/miniconda3/lib/python3.10/site-packages (from bleach->nbconvert) (0.5.1)\n",
      "Requirement already satisfied: six>=1.9.0 in /Users/arvindramesh/miniconda3/lib/python3.10/site-packages (from bleach->nbconvert) (1.16.0)\n",
      "Requirement already satisfied: pyrsistent!=0.17.0,!=0.17.1,!=0.17.2,>=0.14.0 in /Users/arvindramesh/miniconda3/lib/python3.10/site-packages (from jsonschema>=2.6->nbformat>=5.1->nbconvert) (0.18.0)\n",
      "Requirement already satisfied: attrs>=17.4.0 in /Users/arvindramesh/miniconda3/lib/python3.10/site-packages (from jsonschema>=2.6->nbformat>=5.1->nbconvert) (22.1.0)\n",
      "Requirement already satisfied: pyzmq>=23.0 in /Users/arvindramesh/miniconda3/lib/python3.10/site-packages (from jupyter-client>=6.1.5->nbclient>=0.5.0->nbconvert) (23.2.0)\n",
      "Requirement already satisfied: python-dateutil>=2.8.2 in /Users/arvindramesh/miniconda3/lib/python3.10/site-packages (from jupyter-client>=6.1.5->nbclient>=0.5.0->nbconvert) (2.8.2)\n",
      "Requirement already satisfied: tornado>=6.2 in /Users/arvindramesh/miniconda3/lib/python3.10/site-packages (from jupyter-client>=6.1.5->nbclient>=0.5.0->nbconvert) (6.2)\n"
     ]
    }
   ],
   "source": [
    "!pip install nbconvert\n"
   ]
  },
  {
   "cell_type": "code",
   "execution_count": 8,
   "id": "9ab8f1f7",
   "metadata": {},
   "outputs": [
    {
     "name": "stdout",
     "output_type": "stream",
     "text": [
      "Collecting pandoc\n",
      "  Downloading pandoc-2.3.tar.gz (33 kB)\n",
      "  Preparing metadata (setup.py) ... \u001b[?25ldone\n",
      "\u001b[?25hCollecting plumbum\n",
      "  Downloading plumbum-1.8.1-py3-none-any.whl (126 kB)\n",
      "\u001b[2K     \u001b[90m━━━━━━━━━━━━━━━━━━━━━━━━━━━━━━━━━━━━━━━\u001b[0m \u001b[32m126.7/126.7 kB\u001b[0m \u001b[31m3.5 MB/s\u001b[0m eta \u001b[36m0:00:00\u001b[0m\n",
      "\u001b[?25hRequirement already satisfied: ply in /Users/arvindramesh/miniconda3/lib/python3.10/site-packages (from pandoc) (3.11)\n",
      "Building wheels for collected packages: pandoc\n",
      "  Building wheel for pandoc (setup.py) ... \u001b[?25ldone\n",
      "\u001b[?25h  Created wheel for pandoc: filename=pandoc-2.3-py3-none-any.whl size=33262 sha256=f168124683f7f11367c4b89310c2359e3d261bbb277d5d045a0263e4cb1c950b\n",
      "  Stored in directory: /Users/arvindramesh/Library/Caches/pip/wheels/df/68/e2/574df0737a398965be3a1977499bbda7a841a4605d8dda34d2\n",
      "Successfully built pandoc\n",
      "Installing collected packages: plumbum, pandoc\n",
      "Successfully installed pandoc-2.3 plumbum-1.8.1\n"
     ]
    }
   ],
   "source": [
    "!pip install pandoc\n"
   ]
  },
  {
   "cell_type": "code",
   "execution_count": 9,
   "id": "89e6da5f",
   "metadata": {},
   "outputs": [
    {
     "ename": "SyntaxError",
     "evalue": "invalid syntax (3643604197.py, line 1)",
     "output_type": "error",
     "traceback": [
      "\u001b[0;36m  Cell \u001b[0;32mIn[9], line 1\u001b[0;36m\u001b[0m\n\u001b[0;31m    sudo apt-get install chromium-browser\u001b[0m\n\u001b[0m         ^\u001b[0m\n\u001b[0;31mSyntaxError\u001b[0m\u001b[0;31m:\u001b[0m invalid syntax\n"
     ]
    }
   ],
   "source": [
    "sudo apt-get install chromium-browser\n"
   ]
  },
  {
   "cell_type": "code",
   "execution_count": null,
   "id": "55b58bb8",
   "metadata": {},
   "outputs": [],
   "source": []
  }
 ],
 "metadata": {
  "kernelspec": {
   "display_name": "Python 3 (ipykernel)",
   "language": "python",
   "name": "python3"
  },
  "language_info": {
   "codemirror_mode": {
    "name": "ipython",
    "version": 3
   },
   "file_extension": ".py",
   "mimetype": "text/x-python",
   "name": "python",
   "nbconvert_exporter": "python",
   "pygments_lexer": "ipython3",
   "version": "3.10.8"
  }
 },
 "nbformat": 4,
 "nbformat_minor": 5
}
