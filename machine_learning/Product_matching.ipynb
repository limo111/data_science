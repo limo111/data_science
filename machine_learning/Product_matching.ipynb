{
 "cells": [
  {
   "cell_type": "code",
   "execution_count": 2,
   "id": "a72342ef",
   "metadata": {},
   "outputs": [],
   "source": [
    "###loading large file \n",
    "import pandas as pd"
   ]
  },
  {
   "cell_type": "code",
   "execution_count": 3,
   "id": "5d098244",
   "metadata": {},
   "outputs": [],
   "source": [
    "import os"
   ]
  },
  {
   "cell_type": "code",
   "execution_count": 5,
   "id": "7093bb6e",
   "metadata": {},
   "outputs": [
    {
     "data": {
      "text/plain": [
       "['online_retail_II.csv']"
      ]
     },
     "execution_count": 5,
     "metadata": {},
     "output_type": "execute_result"
    }
   ],
   "source": [
    "os.listdir('./online_retail_II')"
   ]
  },
  {
   "cell_type": "code",
   "execution_count": 7,
   "id": "86c9e1bc",
   "metadata": {},
   "outputs": [],
   "source": [
    "#https://www.kaggle.com/datasets/mashlyn/online-retail-ii-uci, downloaded from kaggle\n",
    "data=pd.read_csv('./online_retail_II/online_retail_II.csv')### due to computation and memory constraints this 92 MB file is assumed to be a big data file"
   ]
  },
  {
   "cell_type": "code",
   "execution_count": 8,
   "id": "a18f3a77",
   "metadata": {},
   "outputs": [],
   "source": [
    "##in reality if the data is huge we take a sample of the data and train models on that, since the data here is for 13 months only\n",
    "##when we aggregate the complete data has been taken"
   ]
  },
  {
   "cell_type": "code",
   "execution_count": 9,
   "id": "9434e469",
   "metadata": {},
   "outputs": [
    {
     "data": {
      "text/html": [
       "<div>\n",
       "<style scoped>\n",
       "    .dataframe tbody tr th:only-of-type {\n",
       "        vertical-align: middle;\n",
       "    }\n",
       "\n",
       "    .dataframe tbody tr th {\n",
       "        vertical-align: top;\n",
       "    }\n",
       "\n",
       "    .dataframe thead th {\n",
       "        text-align: right;\n",
       "    }\n",
       "</style>\n",
       "<table border=\"1\" class=\"dataframe\">\n",
       "  <thead>\n",
       "    <tr style=\"text-align: right;\">\n",
       "      <th></th>\n",
       "      <th>Invoice</th>\n",
       "      <th>StockCode</th>\n",
       "      <th>Description</th>\n",
       "      <th>Quantity</th>\n",
       "      <th>InvoiceDate</th>\n",
       "      <th>Price</th>\n",
       "      <th>Customer ID</th>\n",
       "      <th>Country</th>\n",
       "    </tr>\n",
       "  </thead>\n",
       "  <tbody>\n",
       "    <tr>\n",
       "      <th>0</th>\n",
       "      <td>489434</td>\n",
       "      <td>85048</td>\n",
       "      <td>15CM CHRISTMAS GLASS BALL 20 LIGHTS</td>\n",
       "      <td>12</td>\n",
       "      <td>2009-12-01 07:45:00</td>\n",
       "      <td>6.95</td>\n",
       "      <td>13085.0</td>\n",
       "      <td>United Kingdom</td>\n",
       "    </tr>\n",
       "    <tr>\n",
       "      <th>1</th>\n",
       "      <td>489434</td>\n",
       "      <td>79323P</td>\n",
       "      <td>PINK CHERRY LIGHTS</td>\n",
       "      <td>12</td>\n",
       "      <td>2009-12-01 07:45:00</td>\n",
       "      <td>6.75</td>\n",
       "      <td>13085.0</td>\n",
       "      <td>United Kingdom</td>\n",
       "    </tr>\n",
       "    <tr>\n",
       "      <th>2</th>\n",
       "      <td>489434</td>\n",
       "      <td>79323W</td>\n",
       "      <td>WHITE CHERRY LIGHTS</td>\n",
       "      <td>12</td>\n",
       "      <td>2009-12-01 07:45:00</td>\n",
       "      <td>6.75</td>\n",
       "      <td>13085.0</td>\n",
       "      <td>United Kingdom</td>\n",
       "    </tr>\n",
       "    <tr>\n",
       "      <th>3</th>\n",
       "      <td>489434</td>\n",
       "      <td>22041</td>\n",
       "      <td>RECORD FRAME 7\" SINGLE SIZE</td>\n",
       "      <td>48</td>\n",
       "      <td>2009-12-01 07:45:00</td>\n",
       "      <td>2.10</td>\n",
       "      <td>13085.0</td>\n",
       "      <td>United Kingdom</td>\n",
       "    </tr>\n",
       "    <tr>\n",
       "      <th>4</th>\n",
       "      <td>489434</td>\n",
       "      <td>21232</td>\n",
       "      <td>STRAWBERRY CERAMIC TRINKET BOX</td>\n",
       "      <td>24</td>\n",
       "      <td>2009-12-01 07:45:00</td>\n",
       "      <td>1.25</td>\n",
       "      <td>13085.0</td>\n",
       "      <td>United Kingdom</td>\n",
       "    </tr>\n",
       "    <tr>\n",
       "      <th>...</th>\n",
       "      <td>...</td>\n",
       "      <td>...</td>\n",
       "      <td>...</td>\n",
       "      <td>...</td>\n",
       "      <td>...</td>\n",
       "      <td>...</td>\n",
       "      <td>...</td>\n",
       "      <td>...</td>\n",
       "    </tr>\n",
       "    <tr>\n",
       "      <th>1067366</th>\n",
       "      <td>581587</td>\n",
       "      <td>22899</td>\n",
       "      <td>CHILDREN'S APRON DOLLY GIRL</td>\n",
       "      <td>6</td>\n",
       "      <td>2011-12-09 12:50:00</td>\n",
       "      <td>2.10</td>\n",
       "      <td>12680.0</td>\n",
       "      <td>France</td>\n",
       "    </tr>\n",
       "    <tr>\n",
       "      <th>1067367</th>\n",
       "      <td>581587</td>\n",
       "      <td>23254</td>\n",
       "      <td>CHILDRENS CUTLERY DOLLY GIRL</td>\n",
       "      <td>4</td>\n",
       "      <td>2011-12-09 12:50:00</td>\n",
       "      <td>4.15</td>\n",
       "      <td>12680.0</td>\n",
       "      <td>France</td>\n",
       "    </tr>\n",
       "    <tr>\n",
       "      <th>1067368</th>\n",
       "      <td>581587</td>\n",
       "      <td>23255</td>\n",
       "      <td>CHILDRENS CUTLERY CIRCUS PARADE</td>\n",
       "      <td>4</td>\n",
       "      <td>2011-12-09 12:50:00</td>\n",
       "      <td>4.15</td>\n",
       "      <td>12680.0</td>\n",
       "      <td>France</td>\n",
       "    </tr>\n",
       "    <tr>\n",
       "      <th>1067369</th>\n",
       "      <td>581587</td>\n",
       "      <td>22138</td>\n",
       "      <td>BAKING SET 9 PIECE RETROSPOT</td>\n",
       "      <td>3</td>\n",
       "      <td>2011-12-09 12:50:00</td>\n",
       "      <td>4.95</td>\n",
       "      <td>12680.0</td>\n",
       "      <td>France</td>\n",
       "    </tr>\n",
       "    <tr>\n",
       "      <th>1067370</th>\n",
       "      <td>581587</td>\n",
       "      <td>POST</td>\n",
       "      <td>POSTAGE</td>\n",
       "      <td>1</td>\n",
       "      <td>2011-12-09 12:50:00</td>\n",
       "      <td>18.00</td>\n",
       "      <td>12680.0</td>\n",
       "      <td>France</td>\n",
       "    </tr>\n",
       "  </tbody>\n",
       "</table>\n",
       "<p>1067371 rows × 8 columns</p>\n",
       "</div>"
      ],
      "text/plain": [
       "        Invoice StockCode                          Description  Quantity  \\\n",
       "0        489434     85048  15CM CHRISTMAS GLASS BALL 20 LIGHTS        12   \n",
       "1        489434    79323P                   PINK CHERRY LIGHTS        12   \n",
       "2        489434    79323W                  WHITE CHERRY LIGHTS        12   \n",
       "3        489434     22041         RECORD FRAME 7\" SINGLE SIZE         48   \n",
       "4        489434     21232       STRAWBERRY CERAMIC TRINKET BOX        24   \n",
       "...         ...       ...                                  ...       ...   \n",
       "1067366  581587     22899         CHILDREN'S APRON DOLLY GIRL          6   \n",
       "1067367  581587     23254        CHILDRENS CUTLERY DOLLY GIRL          4   \n",
       "1067368  581587     23255      CHILDRENS CUTLERY CIRCUS PARADE         4   \n",
       "1067369  581587     22138        BAKING SET 9 PIECE RETROSPOT          3   \n",
       "1067370  581587      POST                              POSTAGE         1   \n",
       "\n",
       "                 InvoiceDate  Price  Customer ID         Country  \n",
       "0        2009-12-01 07:45:00   6.95      13085.0  United Kingdom  \n",
       "1        2009-12-01 07:45:00   6.75      13085.0  United Kingdom  \n",
       "2        2009-12-01 07:45:00   6.75      13085.0  United Kingdom  \n",
       "3        2009-12-01 07:45:00   2.10      13085.0  United Kingdom  \n",
       "4        2009-12-01 07:45:00   1.25      13085.0  United Kingdom  \n",
       "...                      ...    ...          ...             ...  \n",
       "1067366  2011-12-09 12:50:00   2.10      12680.0          France  \n",
       "1067367  2011-12-09 12:50:00   4.15      12680.0          France  \n",
       "1067368  2011-12-09 12:50:00   4.15      12680.0          France  \n",
       "1067369  2011-12-09 12:50:00   4.95      12680.0          France  \n",
       "1067370  2011-12-09 12:50:00  18.00      12680.0          France  \n",
       "\n",
       "[1067371 rows x 8 columns]"
      ]
     },
     "execution_count": 9,
     "metadata": {},
     "output_type": "execute_result"
    }
   ],
   "source": [
    "##we can take a sample and get modeling insights using data science\n",
    "data"
   ]
  },
  {
   "cell_type": "markdown",
   "id": "e8c2df40",
   "metadata": {},
   "source": [
    "# Checking for Null Values and Imputing Them."
   ]
  },
  {
   "cell_type": "code",
   "execution_count": 10,
   "id": "1d597fc0",
   "metadata": {},
   "outputs": [
    {
     "data": {
      "text/plain": [
       "Invoice             0\n",
       "StockCode           0\n",
       "Description      4382\n",
       "Quantity            0\n",
       "InvoiceDate         0\n",
       "Price               0\n",
       "Customer ID    243007\n",
       "Country             0\n",
       "dtype: int64"
      ]
     },
     "execution_count": 10,
     "metadata": {},
     "output_type": "execute_result"
    }
   ],
   "source": [
    "data.isna().sum()"
   ]
  },
  {
   "cell_type": "code",
   "execution_count": 12,
   "id": "6c3d123c",
   "metadata": {},
   "outputs": [],
   "source": [
    "data['Customer ID']=data['Customer ID'].fillna(0)\n",
    "data['Description']=data['Description'].fillna('Desc missing')"
   ]
  },
  {
   "cell_type": "code",
   "execution_count": 79,
   "id": "952efbf7",
   "metadata": {},
   "outputs": [],
   "source": [
    "###for unregistered guest customer the customer id is taken as 0"
   ]
  },
  {
   "cell_type": "code",
   "execution_count": 13,
   "id": "86e968b8",
   "metadata": {},
   "outputs": [],
   "source": [
    "data['Customer ID']=data['Customer ID'].astype(int)"
   ]
  },
  {
   "cell_type": "code",
   "execution_count": 14,
   "id": "8f110548",
   "metadata": {},
   "outputs": [
    {
     "data": {
      "text/html": [
       "<div>\n",
       "<style scoped>\n",
       "    .dataframe tbody tr th:only-of-type {\n",
       "        vertical-align: middle;\n",
       "    }\n",
       "\n",
       "    .dataframe tbody tr th {\n",
       "        vertical-align: top;\n",
       "    }\n",
       "\n",
       "    .dataframe thead th {\n",
       "        text-align: right;\n",
       "    }\n",
       "</style>\n",
       "<table border=\"1\" class=\"dataframe\">\n",
       "  <thead>\n",
       "    <tr style=\"text-align: right;\">\n",
       "      <th></th>\n",
       "      <th>Invoice</th>\n",
       "      <th>StockCode</th>\n",
       "      <th>Description</th>\n",
       "      <th>Quantity</th>\n",
       "      <th>InvoiceDate</th>\n",
       "      <th>Price</th>\n",
       "      <th>Customer ID</th>\n",
       "      <th>Country</th>\n",
       "    </tr>\n",
       "  </thead>\n",
       "  <tbody>\n",
       "    <tr>\n",
       "      <th>0</th>\n",
       "      <td>489434</td>\n",
       "      <td>85048</td>\n",
       "      <td>15CM CHRISTMAS GLASS BALL 20 LIGHTS</td>\n",
       "      <td>12</td>\n",
       "      <td>2009-12-01 07:45:00</td>\n",
       "      <td>6.95</td>\n",
       "      <td>13085</td>\n",
       "      <td>United Kingdom</td>\n",
       "    </tr>\n",
       "    <tr>\n",
       "      <th>1</th>\n",
       "      <td>489434</td>\n",
       "      <td>79323P</td>\n",
       "      <td>PINK CHERRY LIGHTS</td>\n",
       "      <td>12</td>\n",
       "      <td>2009-12-01 07:45:00</td>\n",
       "      <td>6.75</td>\n",
       "      <td>13085</td>\n",
       "      <td>United Kingdom</td>\n",
       "    </tr>\n",
       "    <tr>\n",
       "      <th>2</th>\n",
       "      <td>489434</td>\n",
       "      <td>79323W</td>\n",
       "      <td>WHITE CHERRY LIGHTS</td>\n",
       "      <td>12</td>\n",
       "      <td>2009-12-01 07:45:00</td>\n",
       "      <td>6.75</td>\n",
       "      <td>13085</td>\n",
       "      <td>United Kingdom</td>\n",
       "    </tr>\n",
       "    <tr>\n",
       "      <th>3</th>\n",
       "      <td>489434</td>\n",
       "      <td>22041</td>\n",
       "      <td>RECORD FRAME 7\" SINGLE SIZE</td>\n",
       "      <td>48</td>\n",
       "      <td>2009-12-01 07:45:00</td>\n",
       "      <td>2.10</td>\n",
       "      <td>13085</td>\n",
       "      <td>United Kingdom</td>\n",
       "    </tr>\n",
       "    <tr>\n",
       "      <th>4</th>\n",
       "      <td>489434</td>\n",
       "      <td>21232</td>\n",
       "      <td>STRAWBERRY CERAMIC TRINKET BOX</td>\n",
       "      <td>24</td>\n",
       "      <td>2009-12-01 07:45:00</td>\n",
       "      <td>1.25</td>\n",
       "      <td>13085</td>\n",
       "      <td>United Kingdom</td>\n",
       "    </tr>\n",
       "  </tbody>\n",
       "</table>\n",
       "</div>"
      ],
      "text/plain": [
       "  Invoice StockCode                          Description  Quantity  \\\n",
       "0  489434     85048  15CM CHRISTMAS GLASS BALL 20 LIGHTS        12   \n",
       "1  489434    79323P                   PINK CHERRY LIGHTS        12   \n",
       "2  489434    79323W                  WHITE CHERRY LIGHTS        12   \n",
       "3  489434     22041         RECORD FRAME 7\" SINGLE SIZE         48   \n",
       "4  489434     21232       STRAWBERRY CERAMIC TRINKET BOX        24   \n",
       "\n",
       "           InvoiceDate  Price  Customer ID         Country  \n",
       "0  2009-12-01 07:45:00   6.95        13085  United Kingdom  \n",
       "1  2009-12-01 07:45:00   6.75        13085  United Kingdom  \n",
       "2  2009-12-01 07:45:00   6.75        13085  United Kingdom  \n",
       "3  2009-12-01 07:45:00   2.10        13085  United Kingdom  \n",
       "4  2009-12-01 07:45:00   1.25        13085  United Kingdom  "
      ]
     },
     "execution_count": 14,
     "metadata": {},
     "output_type": "execute_result"
    }
   ],
   "source": [
    "data.head()"
   ]
  },
  {
   "cell_type": "code",
   "execution_count": 15,
   "id": "33eda566",
   "metadata": {},
   "outputs": [],
   "source": [
    "###we can use market basket analysis for data driven insights\n",
    "data['transaction_month'] = pd.DatetimeIndex(data['InvoiceDate']).month\n",
    "data['transaction_year'] = pd.DatetimeIndex(data['InvoiceDate']).year\n",
    "grouping_cols=['Invoice','transaction_month','transaction_year']"
   ]
  },
  {
   "cell_type": "code",
   "execution_count": 16,
   "id": "e0021baa",
   "metadata": {},
   "outputs": [
    {
     "data": {
      "text/html": [
       "<div>\n",
       "<style scoped>\n",
       "    .dataframe tbody tr th:only-of-type {\n",
       "        vertical-align: middle;\n",
       "    }\n",
       "\n",
       "    .dataframe tbody tr th {\n",
       "        vertical-align: top;\n",
       "    }\n",
       "\n",
       "    .dataframe thead th {\n",
       "        text-align: right;\n",
       "    }\n",
       "</style>\n",
       "<table border=\"1\" class=\"dataframe\">\n",
       "  <thead>\n",
       "    <tr style=\"text-align: right;\">\n",
       "      <th></th>\n",
       "      <th>Invoice</th>\n",
       "      <th>StockCode</th>\n",
       "      <th>Description</th>\n",
       "      <th>Quantity</th>\n",
       "      <th>InvoiceDate</th>\n",
       "      <th>Price</th>\n",
       "      <th>Customer ID</th>\n",
       "      <th>Country</th>\n",
       "      <th>transaction_month</th>\n",
       "      <th>transaction_year</th>\n",
       "    </tr>\n",
       "  </thead>\n",
       "  <tbody>\n",
       "    <tr>\n",
       "      <th>0</th>\n",
       "      <td>489434</td>\n",
       "      <td>85048</td>\n",
       "      <td>15CM CHRISTMAS GLASS BALL 20 LIGHTS</td>\n",
       "      <td>12</td>\n",
       "      <td>2009-12-01 07:45:00</td>\n",
       "      <td>6.95</td>\n",
       "      <td>13085</td>\n",
       "      <td>United Kingdom</td>\n",
       "      <td>12</td>\n",
       "      <td>2009</td>\n",
       "    </tr>\n",
       "    <tr>\n",
       "      <th>1</th>\n",
       "      <td>489434</td>\n",
       "      <td>79323P</td>\n",
       "      <td>PINK CHERRY LIGHTS</td>\n",
       "      <td>12</td>\n",
       "      <td>2009-12-01 07:45:00</td>\n",
       "      <td>6.75</td>\n",
       "      <td>13085</td>\n",
       "      <td>United Kingdom</td>\n",
       "      <td>12</td>\n",
       "      <td>2009</td>\n",
       "    </tr>\n",
       "    <tr>\n",
       "      <th>2</th>\n",
       "      <td>489434</td>\n",
       "      <td>79323W</td>\n",
       "      <td>WHITE CHERRY LIGHTS</td>\n",
       "      <td>12</td>\n",
       "      <td>2009-12-01 07:45:00</td>\n",
       "      <td>6.75</td>\n",
       "      <td>13085</td>\n",
       "      <td>United Kingdom</td>\n",
       "      <td>12</td>\n",
       "      <td>2009</td>\n",
       "    </tr>\n",
       "    <tr>\n",
       "      <th>3</th>\n",
       "      <td>489434</td>\n",
       "      <td>22041</td>\n",
       "      <td>RECORD FRAME 7\" SINGLE SIZE</td>\n",
       "      <td>48</td>\n",
       "      <td>2009-12-01 07:45:00</td>\n",
       "      <td>2.10</td>\n",
       "      <td>13085</td>\n",
       "      <td>United Kingdom</td>\n",
       "      <td>12</td>\n",
       "      <td>2009</td>\n",
       "    </tr>\n",
       "    <tr>\n",
       "      <th>4</th>\n",
       "      <td>489434</td>\n",
       "      <td>21232</td>\n",
       "      <td>STRAWBERRY CERAMIC TRINKET BOX</td>\n",
       "      <td>24</td>\n",
       "      <td>2009-12-01 07:45:00</td>\n",
       "      <td>1.25</td>\n",
       "      <td>13085</td>\n",
       "      <td>United Kingdom</td>\n",
       "      <td>12</td>\n",
       "      <td>2009</td>\n",
       "    </tr>\n",
       "    <tr>\n",
       "      <th>...</th>\n",
       "      <td>...</td>\n",
       "      <td>...</td>\n",
       "      <td>...</td>\n",
       "      <td>...</td>\n",
       "      <td>...</td>\n",
       "      <td>...</td>\n",
       "      <td>...</td>\n",
       "      <td>...</td>\n",
       "      <td>...</td>\n",
       "      <td>...</td>\n",
       "    </tr>\n",
       "    <tr>\n",
       "      <th>1067366</th>\n",
       "      <td>581587</td>\n",
       "      <td>22899</td>\n",
       "      <td>CHILDREN'S APRON DOLLY GIRL</td>\n",
       "      <td>6</td>\n",
       "      <td>2011-12-09 12:50:00</td>\n",
       "      <td>2.10</td>\n",
       "      <td>12680</td>\n",
       "      <td>France</td>\n",
       "      <td>12</td>\n",
       "      <td>2011</td>\n",
       "    </tr>\n",
       "    <tr>\n",
       "      <th>1067367</th>\n",
       "      <td>581587</td>\n",
       "      <td>23254</td>\n",
       "      <td>CHILDRENS CUTLERY DOLLY GIRL</td>\n",
       "      <td>4</td>\n",
       "      <td>2011-12-09 12:50:00</td>\n",
       "      <td>4.15</td>\n",
       "      <td>12680</td>\n",
       "      <td>France</td>\n",
       "      <td>12</td>\n",
       "      <td>2011</td>\n",
       "    </tr>\n",
       "    <tr>\n",
       "      <th>1067368</th>\n",
       "      <td>581587</td>\n",
       "      <td>23255</td>\n",
       "      <td>CHILDRENS CUTLERY CIRCUS PARADE</td>\n",
       "      <td>4</td>\n",
       "      <td>2011-12-09 12:50:00</td>\n",
       "      <td>4.15</td>\n",
       "      <td>12680</td>\n",
       "      <td>France</td>\n",
       "      <td>12</td>\n",
       "      <td>2011</td>\n",
       "    </tr>\n",
       "    <tr>\n",
       "      <th>1067369</th>\n",
       "      <td>581587</td>\n",
       "      <td>22138</td>\n",
       "      <td>BAKING SET 9 PIECE RETROSPOT</td>\n",
       "      <td>3</td>\n",
       "      <td>2011-12-09 12:50:00</td>\n",
       "      <td>4.95</td>\n",
       "      <td>12680</td>\n",
       "      <td>France</td>\n",
       "      <td>12</td>\n",
       "      <td>2011</td>\n",
       "    </tr>\n",
       "    <tr>\n",
       "      <th>1067370</th>\n",
       "      <td>581587</td>\n",
       "      <td>POST</td>\n",
       "      <td>POSTAGE</td>\n",
       "      <td>1</td>\n",
       "      <td>2011-12-09 12:50:00</td>\n",
       "      <td>18.00</td>\n",
       "      <td>12680</td>\n",
       "      <td>France</td>\n",
       "      <td>12</td>\n",
       "      <td>2011</td>\n",
       "    </tr>\n",
       "  </tbody>\n",
       "</table>\n",
       "<p>1054077 rows × 10 columns</p>\n",
       "</div>"
      ],
      "text/plain": [
       "        Invoice StockCode                          Description  Quantity  \\\n",
       "0        489434     85048  15CM CHRISTMAS GLASS BALL 20 LIGHTS        12   \n",
       "1        489434    79323P                   PINK CHERRY LIGHTS        12   \n",
       "2        489434    79323W                  WHITE CHERRY LIGHTS        12   \n",
       "3        489434     22041         RECORD FRAME 7\" SINGLE SIZE         48   \n",
       "4        489434     21232       STRAWBERRY CERAMIC TRINKET BOX        24   \n",
       "...         ...       ...                                  ...       ...   \n",
       "1067366  581587     22899         CHILDREN'S APRON DOLLY GIRL          6   \n",
       "1067367  581587     23254        CHILDRENS CUTLERY DOLLY GIRL          4   \n",
       "1067368  581587     23255      CHILDRENS CUTLERY CIRCUS PARADE         4   \n",
       "1067369  581587     22138        BAKING SET 9 PIECE RETROSPOT          3   \n",
       "1067370  581587      POST                              POSTAGE         1   \n",
       "\n",
       "                 InvoiceDate  Price  Customer ID         Country  \\\n",
       "0        2009-12-01 07:45:00   6.95        13085  United Kingdom   \n",
       "1        2009-12-01 07:45:00   6.75        13085  United Kingdom   \n",
       "2        2009-12-01 07:45:00   6.75        13085  United Kingdom   \n",
       "3        2009-12-01 07:45:00   2.10        13085  United Kingdom   \n",
       "4        2009-12-01 07:45:00   1.25        13085  United Kingdom   \n",
       "...                      ...    ...          ...             ...   \n",
       "1067366  2011-12-09 12:50:00   2.10        12680          France   \n",
       "1067367  2011-12-09 12:50:00   4.15        12680          France   \n",
       "1067368  2011-12-09 12:50:00   4.15        12680          France   \n",
       "1067369  2011-12-09 12:50:00   4.95        12680          France   \n",
       "1067370  2011-12-09 12:50:00  18.00        12680          France   \n",
       "\n",
       "         transaction_month  transaction_year  \n",
       "0                       12              2009  \n",
       "1                       12              2009  \n",
       "2                       12              2009  \n",
       "3                       12              2009  \n",
       "4                       12              2009  \n",
       "...                    ...               ...  \n",
       "1067366                 12              2011  \n",
       "1067367                 12              2011  \n",
       "1067368                 12              2011  \n",
       "1067369                 12              2011  \n",
       "1067370                 12              2011  \n",
       "\n",
       "[1054077 rows x 10 columns]"
      ]
     },
     "execution_count": 16,
     "metadata": {},
     "output_type": "execute_result"
    }
   ],
   "source": [
    "data[data.duplicated(subset=grouping_cols, keep=False)]"
   ]
  },
  {
   "cell_type": "code",
   "execution_count": 17,
   "id": "334e018a",
   "metadata": {},
   "outputs": [],
   "source": [
    "agg_data_quant_sold_by_month_year=data.groupby(['transaction_month','transaction_year'])[\"Quantity\"].sum()"
   ]
  },
  {
   "cell_type": "code",
   "execution_count": 18,
   "id": "2fc3c3ee",
   "metadata": {},
   "outputs": [],
   "source": [
    "agg_data_quant_sold_by_month_year=agg_data_quant_sold_by_month_year.reset_index().sort_values(['transaction_year','transaction_month'])"
   ]
  },
  {
   "cell_type": "code",
   "execution_count": 19,
   "id": "75e36f54",
   "metadata": {},
   "outputs": [
    {
     "data": {
      "text/plain": [
       "Index(['transaction_month', 'transaction_year', 'Quantity'], dtype='object')"
      ]
     },
     "execution_count": 19,
     "metadata": {},
     "output_type": "execute_result"
    }
   ],
   "source": [
    "agg_data_quant_sold_by_month_year.columns"
   ]
  },
  {
   "cell_type": "code",
   "execution_count": 20,
   "id": "8536fe0f",
   "metadata": {},
   "outputs": [],
   "source": [
    "agg_data_quant_sold_by_month_year['timestamp']=agg_data_quant_sold_by_month_year.apply(lambda x:str(x['transaction_year'])+'-'+str(x['transaction_month']),axis=1)"
   ]
  },
  {
   "cell_type": "code",
   "execution_count": 21,
   "id": "6ea12053",
   "metadata": {},
   "outputs": [],
   "source": [
    "agg_data_quant_sold_by_month_year.drop(columns=['transaction_month','transaction_year'],axis=1,inplace=True)"
   ]
  },
  {
   "cell_type": "code",
   "execution_count": 22,
   "id": "00ca0380",
   "metadata": {},
   "outputs": [],
   "source": [
    "agg_data_quant_sold_by_month_year.set_index('timestamp',inplace=True)"
   ]
  },
  {
   "cell_type": "code",
   "execution_count": 23,
   "id": "66e32069",
   "metadata": {},
   "outputs": [
    {
     "data": {
      "text/html": [
       "<div>\n",
       "<style scoped>\n",
       "    .dataframe tbody tr th:only-of-type {\n",
       "        vertical-align: middle;\n",
       "    }\n",
       "\n",
       "    .dataframe tbody tr th {\n",
       "        vertical-align: top;\n",
       "    }\n",
       "\n",
       "    .dataframe thead th {\n",
       "        text-align: right;\n",
       "    }\n",
       "</style>\n",
       "<table border=\"1\" class=\"dataframe\">\n",
       "  <thead>\n",
       "    <tr style=\"text-align: right;\">\n",
       "      <th></th>\n",
       "      <th>Quantity</th>\n",
       "    </tr>\n",
       "    <tr>\n",
       "      <th>timestamp</th>\n",
       "      <th></th>\n",
       "    </tr>\n",
       "  </thead>\n",
       "  <tbody>\n",
       "    <tr>\n",
       "      <th>2009-12</th>\n",
       "      <td>420088</td>\n",
       "    </tr>\n",
       "    <tr>\n",
       "      <th>2010-1</th>\n",
       "      <td>375363</td>\n",
       "    </tr>\n",
       "    <tr>\n",
       "      <th>2010-2</th>\n",
       "      <td>368402</td>\n",
       "    </tr>\n",
       "    <tr>\n",
       "      <th>2010-3</th>\n",
       "      <td>489370</td>\n",
       "    </tr>\n",
       "    <tr>\n",
       "      <th>2010-4</th>\n",
       "      <td>351971</td>\n",
       "    </tr>\n",
       "    <tr>\n",
       "      <th>2010-5</th>\n",
       "      <td>364095</td>\n",
       "    </tr>\n",
       "    <tr>\n",
       "      <th>2010-6</th>\n",
       "      <td>388253</td>\n",
       "    </tr>\n",
       "    <tr>\n",
       "      <th>2010-7</th>\n",
       "      <td>302201</td>\n",
       "    </tr>\n",
       "    <tr>\n",
       "      <th>2010-8</th>\n",
       "      <td>451803</td>\n",
       "    </tr>\n",
       "    <tr>\n",
       "      <th>2010-9</th>\n",
       "      <td>478262</td>\n",
       "    </tr>\n",
       "    <tr>\n",
       "      <th>2010-10</th>\n",
       "      <td>601729</td>\n",
       "    </tr>\n",
       "    <tr>\n",
       "      <th>2010-11</th>\n",
       "      <td>673856</td>\n",
       "    </tr>\n",
       "    <tr>\n",
       "      <th>2010-12</th>\n",
       "      <td>508876</td>\n",
       "    </tr>\n",
       "    <tr>\n",
       "      <th>2011-1</th>\n",
       "      <td>308966</td>\n",
       "    </tr>\n",
       "    <tr>\n",
       "      <th>2011-2</th>\n",
       "      <td>277989</td>\n",
       "    </tr>\n",
       "    <tr>\n",
       "      <th>2011-3</th>\n",
       "      <td>351872</td>\n",
       "    </tr>\n",
       "    <tr>\n",
       "      <th>2011-4</th>\n",
       "      <td>289098</td>\n",
       "    </tr>\n",
       "    <tr>\n",
       "      <th>2011-5</th>\n",
       "      <td>380391</td>\n",
       "    </tr>\n",
       "    <tr>\n",
       "      <th>2011-6</th>\n",
       "      <td>341623</td>\n",
       "    </tr>\n",
       "    <tr>\n",
       "      <th>2011-7</th>\n",
       "      <td>391116</td>\n",
       "    </tr>\n",
       "    <tr>\n",
       "      <th>2011-8</th>\n",
       "      <td>406199</td>\n",
       "    </tr>\n",
       "    <tr>\n",
       "      <th>2011-9</th>\n",
       "      <td>549817</td>\n",
       "    </tr>\n",
       "    <tr>\n",
       "      <th>2011-10</th>\n",
       "      <td>570532</td>\n",
       "    </tr>\n",
       "    <tr>\n",
       "      <th>2011-11</th>\n",
       "      <td>740286</td>\n",
       "    </tr>\n",
       "    <tr>\n",
       "      <th>2011-12</th>\n",
       "      <td>226334</td>\n",
       "    </tr>\n",
       "  </tbody>\n",
       "</table>\n",
       "</div>"
      ],
      "text/plain": [
       "           Quantity\n",
       "timestamp          \n",
       "2009-12      420088\n",
       "2010-1       375363\n",
       "2010-2       368402\n",
       "2010-3       489370\n",
       "2010-4       351971\n",
       "2010-5       364095\n",
       "2010-6       388253\n",
       "2010-7       302201\n",
       "2010-8       451803\n",
       "2010-9       478262\n",
       "2010-10      601729\n",
       "2010-11      673856\n",
       "2010-12      508876\n",
       "2011-1       308966\n",
       "2011-2       277989\n",
       "2011-3       351872\n",
       "2011-4       289098\n",
       "2011-5       380391\n",
       "2011-6       341623\n",
       "2011-7       391116\n",
       "2011-8       406199\n",
       "2011-9       549817\n",
       "2011-10      570532\n",
       "2011-11      740286\n",
       "2011-12      226334"
      ]
     },
     "execution_count": 23,
     "metadata": {},
     "output_type": "execute_result"
    }
   ],
   "source": [
    "agg_data_quant_sold_by_month_year"
   ]
  },
  {
   "cell_type": "code",
   "execution_count": 24,
   "id": "68ea4199",
   "metadata": {},
   "outputs": [],
   "source": [
    "import pandas as pd\n",
    "import matplotlib.pyplot as plt\n",
    "import pmdarima\n",
    "from pmdarima.arima import auto_arima\n",
    "pd.set_option('display.float_format', lambda x: '%20f' % x)"
   ]
  },
  {
   "cell_type": "code",
   "execution_count": 25,
   "id": "c3e73ec6",
   "metadata": {},
   "outputs": [
    {
     "data": {
      "image/png": "[encoded data removed]",
      "text/plain": [
       "<Figure size 864x864 with 1 Axes>"
      ]
     },
     "metadata": {
      "needs_background": "light"
     },
     "output_type": "display_data"
    }
   ],
   "source": [
    "# Train Test Split Index\n",
    "split_idx=int(len(agg_data_quant_sold_by_month_year)*0.95)\n",
    "\n",
    "# Split\n",
    "train = agg_data_quant_sold_by_month_year.iloc[:split_idx]\n",
    "val = agg_data_quant_sold_by_month_year.iloc[split_idx:]\n",
    "# Visualize split\n",
    "fig,ax= plt.subplots(figsize=(12,12))\n",
    "kws = dict(marker='o')\n",
    "plt.plot(train, label='Train', **kws)\n",
    "plt.plot(val, label='val', **kws)\n",
    "plt.xticks(rotation=90)\n",
    "ax.legend(bbox_to_anchor=[1,1]);"
   ]
  },
  {
   "cell_type": "code",
   "execution_count": 26,
   "id": "eb1d91d2",
   "metadata": {},
   "outputs": [
    {
     "data": {
      "text/html": [
       "<div>\n",
       "<style scoped>\n",
       "    .dataframe tbody tr th:only-of-type {\n",
       "        vertical-align: middle;\n",
       "    }\n",
       "\n",
       "    .dataframe tbody tr th {\n",
       "        vertical-align: top;\n",
       "    }\n",
       "\n",
       "    .dataframe thead th {\n",
       "        text-align: right;\n",
       "    }\n",
       "</style>\n",
       "<table border=\"1\" class=\"dataframe\">\n",
       "  <thead>\n",
       "    <tr style=\"text-align: right;\">\n",
       "      <th></th>\n",
       "      <th>Quantity</th>\n",
       "    </tr>\n",
       "    <tr>\n",
       "      <th>timestamp</th>\n",
       "      <th></th>\n",
       "    </tr>\n",
       "  </thead>\n",
       "  <tbody>\n",
       "    <tr>\n",
       "      <th>2011-11</th>\n",
       "      <td>740286</td>\n",
       "    </tr>\n",
       "    <tr>\n",
       "      <th>2011-12</th>\n",
       "      <td>226334</td>\n",
       "    </tr>\n",
       "  </tbody>\n",
       "</table>\n",
       "</div>"
      ],
      "text/plain": [
       "           Quantity\n",
       "timestamp          \n",
       "2011-11      740286\n",
       "2011-12      226334"
      ]
     },
     "execution_count": 26,
     "metadata": {},
     "output_type": "execute_result"
    }
   ],
   "source": [
    "val"
   ]
  },
  {
   "cell_type": "markdown",
   "id": "5604460e",
   "metadata": {},
   "source": [
    "# Applying the AUTO ARIMA MODEL"
   ]
  },
  {
   "cell_type": "code",
   "execution_count": 27,
   "id": "e6815b95",
   "metadata": {},
   "outputs": [
    {
     "data": {
      "text/html": [
       "<table class=\"simpletable\">\n",
       "<caption>SARIMAX Results</caption>\n",
       "<tr>\n",
       "  <th>Dep. Variable:</th>           <td>y</td>        <th>  No. Observations:  </th>    <td>23</td>   \n",
       "</tr>\n",
       "<tr>\n",
       "  <th>Model:</th>           <td>SARIMAX(1, 0, 0)</td> <th>  Log Likelihood     </th> <td>-293.731</td>\n",
       "</tr>\n",
       "<tr>\n",
       "  <th>Date:</th>            <td>Wed, 03 Aug 2022</td> <th>  AIC                </th>  <td>593.461</td>\n",
       "</tr>\n",
       "<tr>\n",
       "  <th>Time:</th>                <td>21:08:19</td>     <th>  BIC                </th>  <td>596.868</td>\n",
       "</tr>\n",
       "<tr>\n",
       "  <th>Sample:</th>                  <td>0</td>        <th>  HQIC               </th>  <td>594.318</td>\n",
       "</tr>\n",
       "<tr>\n",
       "  <th></th>                       <td> - 23</td>      <th>                     </th>     <td> </td>   \n",
       "</tr>\n",
       "<tr>\n",
       "  <th>Covariance Type:</th>        <td>opg</td>       <th>                     </th>     <td> </td>   \n",
       "</tr>\n",
       "</table>\n",
       "<table class=\"simpletable\">\n",
       "<tr>\n",
       "      <td></td>         <th>coef</th>     <th>std err</th>      <th>z</th>      <th>P>|z|</th>  <th>[0.025</th>    <th>0.975]</th>  \n",
       "</tr>\n",
       "<tr>\n",
       "  <th>intercept</th> <td>  1.69e+05</td> <td> 8.87e+04</td> <td>    1.906</td> <td> 0.057</td> <td>-4808.596</td> <td> 3.43e+05</td>\n",
       "</tr>\n",
       "<tr>\n",
       "  <th>ar.L1</th>     <td>    0.6039</td> <td>    0.189</td> <td>    3.187</td> <td> 0.001</td> <td>    0.233</td> <td>    0.975</td>\n",
       "</tr>\n",
       "<tr>\n",
       "  <th>sigma2</th>    <td> 7.419e+09</td> <td>    0.069</td> <td> 1.08e+11</td> <td> 0.000</td> <td> 7.42e+09</td> <td> 7.42e+09</td>\n",
       "</tr>\n",
       "</table>\n",
       "<table class=\"simpletable\">\n",
       "<tr>\n",
       "  <th>Ljung-Box (L1) (Q):</th>     <td>0.58</td> <th>  Jarque-Bera (JB):  </th> <td>0.61</td>\n",
       "</tr>\n",
       "<tr>\n",
       "  <th>Prob(Q):</th>                <td>0.45</td> <th>  Prob(JB):          </th> <td>0.74</td>\n",
       "</tr>\n",
       "<tr>\n",
       "  <th>Heteroskedasticity (H):</th> <td>1.03</td> <th>  Skew:              </th> <td>0.09</td>\n",
       "</tr>\n",
       "<tr>\n",
       "  <th>Prob(H) (two-sided):</th>    <td>0.97</td> <th>  Kurtosis:          </th> <td>2.22</td>\n",
       "</tr>\n",
       "</table><br/><br/>Warnings:<br/>[1] Covariance matrix calculated using the outer product of gradients (complex-step).<br/>[2] Covariance matrix is singular or near-singular, with condition number 9.06e+27. Standard errors may be unstable."
      ],
      "text/plain": [
       "<class 'statsmodels.iolib.summary.Summary'>\n",
       "\"\"\"\n",
       "                               SARIMAX Results                                \n",
       "==============================================================================\n",
       "Dep. Variable:                      y   No. Observations:                   23\n",
       "Model:               SARIMAX(1, 0, 0)   Log Likelihood                -293.731\n",
       "Date:                Wed, 03 Aug 2022   AIC                            593.461\n",
       "Time:                        21:08:19   BIC                            596.868\n",
       "Sample:                             0   HQIC                           594.318\n",
       "                                 - 23                                         \n",
       "Covariance Type:                  opg                                         \n",
       "==============================================================================\n",
       "                 coef    std err          z      P>|z|      [0.025      0.975]\n",
       "------------------------------------------------------------------------------\n",
       "intercept    1.69e+05   8.87e+04      1.906      0.057   -4808.596    3.43e+05\n",
       "ar.L1          0.6039      0.189      3.187      0.001       0.233       0.975\n",
       "sigma2      7.419e+09      0.069   1.08e+11      0.000    7.42e+09    7.42e+09\n",
       "===================================================================================\n",
       "Ljung-Box (L1) (Q):                   0.58   Jarque-Bera (JB):                 0.61\n",
       "Prob(Q):                              0.45   Prob(JB):                         0.74\n",
       "Heteroskedasticity (H):               1.03   Skew:                             0.09\n",
       "Prob(H) (two-sided):                  0.97   Kurtosis:                         2.22\n",
       "===================================================================================\n",
       "\n",
       "Warnings:\n",
       "[1] Covariance matrix calculated using the outer product of gradients (complex-step).\n",
       "[2] Covariance matrix is singular or near-singular, with condition number 9.06e+27. Standard errors may be unstable.\n",
       "\"\"\""
      ]
     },
     "execution_count": 27,
     "metadata": {},
     "output_type": "execute_result"
    }
   ],
   "source": [
    "model = auto_arima(train, start_p=0, start_q=0,seasonal=False)\n",
    "model.summary()\n",
    "##seasonal components are (000), p value is 1 , d we need to check and q value is 0"
   ]
  },
  {
   "cell_type": "code",
   "execution_count": 28,
   "id": "17c798e0",
   "metadata": {},
   "outputs": [
    {
     "name": "stderr",
     "output_type": "stream",
     "text": [
      "C:\\ProgramData\\Anaconda3\\lib\\site-packages\\statsmodels\\graphics\\gofplots.py:993: UserWarning: marker is redundantly defined by the 'marker' keyword argument and the fmt string \"bo\" (-> marker='o'). The keyword argument will take precedence.\n",
      "  ax.plot(x, y, fmt, **plot_style)\n"
     ]
    },
    {
     "data": {
      "image/png": "[encoded data removed]",
      "text/plain": [
       "<Figure size 432x288 with 4 Axes>"
      ]
     },
     "execution_count": 28,
     "metadata": {},
     "output_type": "execute_result"
    },
    {
     "data": {
      "image/png": "[encoded data removed]",
      "text/plain": [
       "<Figure size 432x288 with 4 Axes>"
      ]
     },
     "metadata": {
      "needs_background": "light"
     },
     "output_type": "display_data"
    }
   ],
   "source": [
    "model.plot_diagnostics()"
   ]
  },
  {
   "cell_type": "code",
   "execution_count": 29,
   "id": "dbb77612",
   "metadata": {},
   "outputs": [],
   "source": [
    "from pmdarima.utils import c, diff\n",
    "\n",
    "x = c(train['Quantity'])\n",
    "values=diff(x, differences=1)"
   ]
  },
  {
   "cell_type": "code",
   "execution_count": 30,
   "id": "1e82706c",
   "metadata": {},
   "outputs": [
    {
     "data": {
      "text/plain": [
       "array([ -44725.,   -6961.,  120968., -137399.,   12124.,   24158.,\n",
       "        -86052.,  149602.,   26459.,  123467.,   72127., -164980.,\n",
       "       -199910.,  -30977.,   73883.,  -62774.,   91293.,  -38768.,\n",
       "         49493.,   15083.,  143618.,   20715.])"
      ]
     },
     "execution_count": 30,
     "metadata": {},
     "output_type": "execute_result"
    }
   ],
   "source": [
    "values"
   ]
  },
  {
   "cell_type": "markdown",
   "id": "07915d20",
   "metadata": {},
   "source": [
    "# Testing the Hypothesis"
   ]
  },
  {
   "cell_type": "code",
   "execution_count": 31,
   "id": "f5cd7828",
   "metadata": {},
   "outputs": [
    {
     "name": "stdout",
     "output_type": "stream",
     "text": [
      "ADF Test Statistic : -4.4665059857209854\n",
      "p-value : 0.00022593613213257475\n",
      "#Lags Used : 0\n",
      "Number of Observations : 21\n",
      "strong evidence against the null hypothesis(Ho), reject the null hypothesis. Data is stationary\n"
     ]
    }
   ],
   "source": [
    "from statsmodels.tsa.stattools import adfuller\n",
    "def adfuller_test(values):\n",
    "    result=adfuller(values)\n",
    "    labels = ['ADF Test Statistic','p-value','#Lags Used','Number of Observations']\n",
    "    for value,label in zip(result,labels):\n",
    "        print(label+' : '+str(value) )\n",
    "    return result\n",
    "\n",
    "result=adfuller_test(values)\n",
    "if result[1] <= 0.05:\n",
    "    print(\"strong evidence against the null hypothesis(Ho), reject the null hypothesis. Data is stationary\")\n",
    "else:\n",
    "    print(\"weak evidence against null hypothesis,indicating it is non-stationary \")\n",
    "\n"
   ]
  },
  {
   "cell_type": "code",
   "execution_count": 40,
   "id": "4663d36a",
   "metadata": {},
   "outputs": [],
   "source": [
    "##d value is 1 difference\n",
    "#p=1\n",
    "#q=0\n",
    "x = c(train['Quantity'])\n",
    "differenced_train=diff(x, differences=1)"
   ]
  },
  {
   "cell_type": "code",
   "execution_count": 50,
   "id": "3410fc21",
   "metadata": {},
   "outputs": [
    {
     "data": {
      "text/html": [
       "<div>\n",
       "<style scoped>\n",
       "    .dataframe tbody tr th:only-of-type {\n",
       "        vertical-align: middle;\n",
       "    }\n",
       "\n",
       "    .dataframe tbody tr th {\n",
       "        vertical-align: top;\n",
       "    }\n",
       "\n",
       "    .dataframe thead th {\n",
       "        text-align: right;\n",
       "    }\n",
       "</style>\n",
       "<table border=\"1\" class=\"dataframe\">\n",
       "  <thead>\n",
       "    <tr style=\"text-align: right;\">\n",
       "      <th></th>\n",
       "      <th>Quantity</th>\n",
       "    </tr>\n",
       "    <tr>\n",
       "      <th>timestamp</th>\n",
       "      <th></th>\n",
       "    </tr>\n",
       "  </thead>\n",
       "  <tbody>\n",
       "    <tr>\n",
       "      <th>2009-12</th>\n",
       "      <td>420088</td>\n",
       "    </tr>\n",
       "    <tr>\n",
       "      <th>2010-1</th>\n",
       "      <td>375363</td>\n",
       "    </tr>\n",
       "    <tr>\n",
       "      <th>2010-2</th>\n",
       "      <td>368402</td>\n",
       "    </tr>\n",
       "    <tr>\n",
       "      <th>2010-3</th>\n",
       "      <td>489370</td>\n",
       "    </tr>\n",
       "    <tr>\n",
       "      <th>2010-4</th>\n",
       "      <td>351971</td>\n",
       "    </tr>\n",
       "    <tr>\n",
       "      <th>2010-5</th>\n",
       "      <td>364095</td>\n",
       "    </tr>\n",
       "    <tr>\n",
       "      <th>2010-6</th>\n",
       "      <td>388253</td>\n",
       "    </tr>\n",
       "    <tr>\n",
       "      <th>2010-7</th>\n",
       "      <td>302201</td>\n",
       "    </tr>\n",
       "    <tr>\n",
       "      <th>2010-8</th>\n",
       "      <td>451803</td>\n",
       "    </tr>\n",
       "    <tr>\n",
       "      <th>2010-9</th>\n",
       "      <td>478262</td>\n",
       "    </tr>\n",
       "    <tr>\n",
       "      <th>2010-10</th>\n",
       "      <td>601729</td>\n",
       "    </tr>\n",
       "    <tr>\n",
       "      <th>2010-11</th>\n",
       "      <td>673856</td>\n",
       "    </tr>\n",
       "    <tr>\n",
       "      <th>2010-12</th>\n",
       "      <td>508876</td>\n",
       "    </tr>\n",
       "    <tr>\n",
       "      <th>2011-1</th>\n",
       "      <td>308966</td>\n",
       "    </tr>\n",
       "    <tr>\n",
       "      <th>2011-2</th>\n",
       "      <td>277989</td>\n",
       "    </tr>\n",
       "    <tr>\n",
       "      <th>2011-3</th>\n",
       "      <td>351872</td>\n",
       "    </tr>\n",
       "    <tr>\n",
       "      <th>2011-4</th>\n",
       "      <td>289098</td>\n",
       "    </tr>\n",
       "    <tr>\n",
       "      <th>2011-5</th>\n",
       "      <td>380391</td>\n",
       "    </tr>\n",
       "    <tr>\n",
       "      <th>2011-6</th>\n",
       "      <td>341623</td>\n",
       "    </tr>\n",
       "    <tr>\n",
       "      <th>2011-7</th>\n",
       "      <td>391116</td>\n",
       "    </tr>\n",
       "    <tr>\n",
       "      <th>2011-8</th>\n",
       "      <td>406199</td>\n",
       "    </tr>\n",
       "    <tr>\n",
       "      <th>2011-9</th>\n",
       "      <td>549817</td>\n",
       "    </tr>\n",
       "    <tr>\n",
       "      <th>2011-10</th>\n",
       "      <td>570532</td>\n",
       "    </tr>\n",
       "  </tbody>\n",
       "</table>\n",
       "</div>"
      ],
      "text/plain": [
       "           Quantity\n",
       "timestamp          \n",
       "2009-12      420088\n",
       "2010-1       375363\n",
       "2010-2       368402\n",
       "2010-3       489370\n",
       "2010-4       351971\n",
       "2010-5       364095\n",
       "2010-6       388253\n",
       "2010-7       302201\n",
       "2010-8       451803\n",
       "2010-9       478262\n",
       "2010-10      601729\n",
       "2010-11      673856\n",
       "2010-12      508876\n",
       "2011-1       308966\n",
       "2011-2       277989\n",
       "2011-3       351872\n",
       "2011-4       289098\n",
       "2011-5       380391\n",
       "2011-6       341623\n",
       "2011-7       391116\n",
       "2011-8       406199\n",
       "2011-9       549817\n",
       "2011-10      570532"
      ]
     },
     "execution_count": 50,
     "metadata": {},
     "output_type": "execute_result"
    }
   ],
   "source": [
    "train"
   ]
  },
  {
   "cell_type": "code",
   "execution_count": 44,
   "id": "9181e24a",
   "metadata": {},
   "outputs": [
    {
     "name": "stderr",
     "output_type": "stream",
     "text": [
      "C:\\ProgramData\\Anaconda3\\lib\\site-packages\\statsmodels\\tsa\\base\\tsa_model.py:524: ValueWarning: No frequency information was provided, so inferred frequency MS will be used.\n",
      "  warnings.warn('No frequency information was'\n",
      "C:\\ProgramData\\Anaconda3\\lib\\site-packages\\statsmodels\\tsa\\base\\tsa_model.py:524: ValueWarning: No frequency information was provided, so inferred frequency MS will be used.\n",
      "  warnings.warn('No frequency information was'\n",
      "C:\\ProgramData\\Anaconda3\\lib\\site-packages\\statsmodels\\tsa\\base\\tsa_model.py:524: ValueWarning: No frequency information was provided, so inferred frequency MS will be used.\n",
      "  warnings.warn('No frequency information was'\n"
     ]
    },
    {
     "data": {
      "image/png": "[encoded data removed]",
      "text/plain": [
       "<Figure size 432x288 with 1 Axes>"
      ]
     },
     "metadata": {
      "needs_background": "light"
     },
     "output_type": "display_data"
    },
    {
     "data": {
      "image/png": "[encoded data removed]",
      "text/plain": [
       "<Figure size 432x288 with 1 Axes>"
      ]
     },
     "metadata": {
      "needs_background": "light"
     },
     "output_type": "display_data"
    },
    {
     "name": "stdout",
     "output_type": "stream",
     "text": [
      "                         0\n",
      "count            23.000000\n",
      "mean          26152.215693\n",
      "std          127544.965009\n",
      "min         -209203.411155\n",
      "25%          -37931.726692\n",
      "50%           24840.951369\n",
      "75%           83419.434487\n",
      "max          420088.000000\n"
     ]
    }
   ],
   "source": [
    "from statsmodels.tsa.arima.model import ARIMA\n",
    "from matplotlib import pyplot\n",
    "\n",
    "model_1 = ARIMA(train, order=(1,1, 0))\n",
    "model_fit = model_1.fit()\n",
    "residuals = pd.DataFrame(model_fit.resid)\n",
    "residuals.plot()\n",
    "pyplot.show()\n",
    "# density plot of residuals\n",
    "residuals.plot(kind='kde')\n",
    "pyplot.show()\n",
    "# summary stats of residuals\n",
    "print(residuals.describe())"
   ]
  },
  {
   "cell_type": "markdown",
   "id": "62d5732f",
   "metadata": {},
   "source": [
    "# Forecasting the Results"
   ]
  },
  {
   "cell_type": "code",
   "execution_count": 45,
   "id": "7f3030c1",
   "metadata": {},
   "outputs": [],
   "source": [
    "forecast = model_fit.get_forecast(steps=2)\n",
    "yhat = forecast.predicted_mean\n",
    "yhat_conf_int = forecast.conf_int(alpha=0.05)"
   ]
  },
  {
   "cell_type": "code",
   "execution_count": 35,
   "id": "df2b4a2d",
   "metadata": {},
   "outputs": [
    {
     "data": {
      "text/plain": [
       "2011-11-01          569365.113031\n",
       "2011-12-01          569430.844395\n",
       "Freq: MS, Name: predicted_mean, dtype: float64"
      ]
     },
     "execution_count": 35,
     "metadata": {},
     "output_type": "execute_result"
    }
   ],
   "source": [
    "yhat##predicted values"
   ]
  },
  {
   "cell_type": "code",
   "execution_count": 46,
   "id": "891ce2ef",
   "metadata": {},
   "outputs": [
    {
     "data": {
      "text/html": [
       "<div>\n",
       "<style scoped>\n",
       "    .dataframe tbody tr th:only-of-type {\n",
       "        vertical-align: middle;\n",
       "    }\n",
       "\n",
       "    .dataframe tbody tr th {\n",
       "        vertical-align: top;\n",
       "    }\n",
       "\n",
       "    .dataframe thead th {\n",
       "        text-align: right;\n",
       "    }\n",
       "</style>\n",
       "<table border=\"1\" class=\"dataframe\">\n",
       "  <thead>\n",
       "    <tr style=\"text-align: right;\">\n",
       "      <th></th>\n",
       "      <th>lower Quantity</th>\n",
       "      <th>upper Quantity</th>\n",
       "    </tr>\n",
       "  </thead>\n",
       "  <tbody>\n",
       "    <tr>\n",
       "      <th>2011-11-01</th>\n",
       "      <td>379866.282625</td>\n",
       "      <td>758863.943438</td>\n",
       "    </tr>\n",
       "    <tr>\n",
       "      <th>2011-12-01</th>\n",
       "      <td>308877.734903</td>\n",
       "      <td>829983.953887</td>\n",
       "    </tr>\n",
       "  </tbody>\n",
       "</table>\n",
       "</div>"
      ],
      "text/plain": [
       "                 lower Quantity       upper Quantity\n",
       "2011-11-01        379866.282625        758863.943438\n",
       "2011-12-01        308877.734903        829983.953887"
      ]
     },
     "execution_count": 46,
     "metadata": {},
     "output_type": "execute_result"
    }
   ],
   "source": [
    "yhat_conf_int###predicted confidence intervals"
   ]
  },
  {
   "cell_type": "code",
   "execution_count": 47,
   "id": "d424a3e5",
   "metadata": {},
   "outputs": [
    {
     "data": {
      "text/html": [
       "<div>\n",
       "<style scoped>\n",
       "    .dataframe tbody tr th:only-of-type {\n",
       "        vertical-align: middle;\n",
       "    }\n",
       "\n",
       "    .dataframe tbody tr th {\n",
       "        vertical-align: top;\n",
       "    }\n",
       "\n",
       "    .dataframe thead th {\n",
       "        text-align: right;\n",
       "    }\n",
       "</style>\n",
       "<table border=\"1\" class=\"dataframe\">\n",
       "  <thead>\n",
       "    <tr style=\"text-align: right;\">\n",
       "      <th></th>\n",
       "      <th>Quantity</th>\n",
       "    </tr>\n",
       "    <tr>\n",
       "      <th>timestamp</th>\n",
       "      <th></th>\n",
       "    </tr>\n",
       "  </thead>\n",
       "  <tbody>\n",
       "    <tr>\n",
       "      <th>2011-11</th>\n",
       "      <td>740286</td>\n",
       "    </tr>\n",
       "    <tr>\n",
       "      <th>2011-12</th>\n",
       "      <td>226334</td>\n",
       "    </tr>\n",
       "  </tbody>\n",
       "</table>\n",
       "</div>"
      ],
      "text/plain": [
       "           Quantity\n",
       "timestamp          \n",
       "2011-11      740286\n",
       "2011-12      226334"
      ]
     },
     "execution_count": 47,
     "metadata": {},
     "output_type": "execute_result"
    }
   ],
   "source": [
    "val###actual values"
   ]
  },
  {
   "cell_type": "code",
   "execution_count": 48,
   "id": "3e70e898",
   "metadata": {},
   "outputs": [
    {
     "data": {
      "text/plain": [
       "0.8733861370315883"
      ]
     },
     "execution_count": 48,
     "metadata": {},
     "output_type": "execute_result"
    }
   ],
   "source": [
    "import sklearn\n",
    "sklearn.metrics.mean_absolute_percentage_error(val['Quantity'],yhat)"
   ]
  },
  {
   "cell_type": "code",
   "execution_count": 49,
   "id": "f8354678",
   "metadata": {},
   "outputs": [
    {
     "data": {
      "text/plain": [
       "timestamp\n",
       "2011-11    740286\n",
       "2011-12    226334\n",
       "Name: Quantity, dtype: int64"
      ]
     },
     "execution_count": 49,
     "metadata": {},
     "output_type": "execute_result"
    }
   ],
   "source": [
    "val['Quantity']"
   ]
  },
  {
   "cell_type": "markdown",
   "id": "a6cedac0",
   "metadata": {},
   "source": [
    "##LStM"
   ]
  },
  {
   "cell_type": "code",
   "execution_count": 51,
   "id": "941cd6b1",
   "metadata": {},
   "outputs": [
    {
     "data": {
      "text/html": [
       "<div>\n",
       "<style scoped>\n",
       "    .dataframe tbody tr th:only-of-type {\n",
       "        vertical-align: middle;\n",
       "    }\n",
       "\n",
       "    .dataframe tbody tr th {\n",
       "        vertical-align: top;\n",
       "    }\n",
       "\n",
       "    .dataframe thead th {\n",
       "        text-align: right;\n",
       "    }\n",
       "</style>\n",
       "<table border=\"1\" class=\"dataframe\">\n",
       "  <thead>\n",
       "    <tr style=\"text-align: right;\">\n",
       "      <th></th>\n",
       "      <th>Quantity</th>\n",
       "    </tr>\n",
       "    <tr>\n",
       "      <th>timestamp</th>\n",
       "      <th></th>\n",
       "    </tr>\n",
       "  </thead>\n",
       "  <tbody>\n",
       "    <tr>\n",
       "      <th>2009-12</th>\n",
       "      <td>420088</td>\n",
       "    </tr>\n",
       "    <tr>\n",
       "      <th>2010-1</th>\n",
       "      <td>375363</td>\n",
       "    </tr>\n",
       "    <tr>\n",
       "      <th>2010-2</th>\n",
       "      <td>368402</td>\n",
       "    </tr>\n",
       "    <tr>\n",
       "      <th>2010-3</th>\n",
       "      <td>489370</td>\n",
       "    </tr>\n",
       "    <tr>\n",
       "      <th>2010-4</th>\n",
       "      <td>351971</td>\n",
       "    </tr>\n",
       "  </tbody>\n",
       "</table>\n",
       "</div>"
      ],
      "text/plain": [
       "           Quantity\n",
       "timestamp          \n",
       "2009-12      420088\n",
       "2010-1       375363\n",
       "2010-2       368402\n",
       "2010-3       489370\n",
       "2010-4       351971"
      ]
     },
     "execution_count": 51,
     "metadata": {},
     "output_type": "execute_result"
    }
   ],
   "source": [
    "train.head()"
   ]
  },
  {
   "cell_type": "code",
   "execution_count": 53,
   "id": "9bddd6fa",
   "metadata": {},
   "outputs": [
    {
     "data": {
      "text/plain": [
       "<AxesSubplot:xlabel='timestamp'>"
      ]
     },
     "execution_count": 53,
     "metadata": {},
     "output_type": "execute_result"
    },
    {
     "data": {
      "image/png": "[encoded data removed]",
      "text/plain": [
       "<Figure size 432x288 with 1 Axes>"
      ]
     },
     "metadata": {
      "needs_background": "light"
     },
     "output_type": "display_data"
    }
   ],
   "source": [
    "train.plot()"
   ]
  },
  {
   "cell_type": "code",
   "execution_count": 82,
   "id": "cf90bdcf",
   "metadata": {},
   "outputs": [],
   "source": [
    "import numpy as np\n",
    "def sampling(sequence, step_num):\n",
    "    x_values=[]\n",
    "    y_values=[]\n",
    "    for index in range(len(sequence)):\n",
    "        step = index + step_num\n",
    "        if not (step > len(sequence)-1):\n",
    "            x, y = sequence[index:step], sequence[step]\n",
    "            x_values.append(x)\n",
    "            y_values.append(y)\n",
    "    return np.array(x_values), np.array(y_values)"
   ]
  },
  {
   "cell_type": "code",
   "execution_count": 97,
   "id": "4ba7b330",
   "metadata": {},
   "outputs": [
    {
     "data": {
      "text/html": [
       "<div>\n",
       "<style scoped>\n",
       "    .dataframe tbody tr th:only-of-type {\n",
       "        vertical-align: middle;\n",
       "    }\n",
       "\n",
       "    .dataframe tbody tr th {\n",
       "        vertical-align: top;\n",
       "    }\n",
       "\n",
       "    .dataframe thead th {\n",
       "        text-align: right;\n",
       "    }\n",
       "</style>\n",
       "<table border=\"1\" class=\"dataframe\">\n",
       "  <thead>\n",
       "    <tr style=\"text-align: right;\">\n",
       "      <th></th>\n",
       "      <th>Quantity</th>\n",
       "    </tr>\n",
       "    <tr>\n",
       "      <th>timestamp</th>\n",
       "      <th></th>\n",
       "    </tr>\n",
       "  </thead>\n",
       "  <tbody>\n",
       "    <tr>\n",
       "      <th>2009-12</th>\n",
       "      <td>420088</td>\n",
       "    </tr>\n",
       "    <tr>\n",
       "      <th>2010-1</th>\n",
       "      <td>375363</td>\n",
       "    </tr>\n",
       "    <tr>\n",
       "      <th>2010-2</th>\n",
       "      <td>368402</td>\n",
       "    </tr>\n",
       "    <tr>\n",
       "      <th>2010-3</th>\n",
       "      <td>489370</td>\n",
       "    </tr>\n",
       "    <tr>\n",
       "      <th>2010-4</th>\n",
       "      <td>351971</td>\n",
       "    </tr>\n",
       "    <tr>\n",
       "      <th>2010-5</th>\n",
       "      <td>364095</td>\n",
       "    </tr>\n",
       "    <tr>\n",
       "      <th>2010-6</th>\n",
       "      <td>388253</td>\n",
       "    </tr>\n",
       "    <tr>\n",
       "      <th>2010-7</th>\n",
       "      <td>302201</td>\n",
       "    </tr>\n",
       "    <tr>\n",
       "      <th>2010-8</th>\n",
       "      <td>451803</td>\n",
       "    </tr>\n",
       "    <tr>\n",
       "      <th>2010-9</th>\n",
       "      <td>478262</td>\n",
       "    </tr>\n",
       "    <tr>\n",
       "      <th>2010-10</th>\n",
       "      <td>601729</td>\n",
       "    </tr>\n",
       "    <tr>\n",
       "      <th>2010-11</th>\n",
       "      <td>673856</td>\n",
       "    </tr>\n",
       "    <tr>\n",
       "      <th>2010-12</th>\n",
       "      <td>508876</td>\n",
       "    </tr>\n",
       "    <tr>\n",
       "      <th>2011-1</th>\n",
       "      <td>308966</td>\n",
       "    </tr>\n",
       "    <tr>\n",
       "      <th>2011-2</th>\n",
       "      <td>277989</td>\n",
       "    </tr>\n",
       "    <tr>\n",
       "      <th>2011-3</th>\n",
       "      <td>351872</td>\n",
       "    </tr>\n",
       "    <tr>\n",
       "      <th>2011-4</th>\n",
       "      <td>289098</td>\n",
       "    </tr>\n",
       "    <tr>\n",
       "      <th>2011-5</th>\n",
       "      <td>380391</td>\n",
       "    </tr>\n",
       "    <tr>\n",
       "      <th>2011-6</th>\n",
       "      <td>341623</td>\n",
       "    </tr>\n",
       "    <tr>\n",
       "      <th>2011-7</th>\n",
       "      <td>391116</td>\n",
       "    </tr>\n",
       "    <tr>\n",
       "      <th>2011-8</th>\n",
       "      <td>406199</td>\n",
       "    </tr>\n",
       "    <tr>\n",
       "      <th>2011-9</th>\n",
       "      <td>549817</td>\n",
       "    </tr>\n",
       "    <tr>\n",
       "      <th>2011-10</th>\n",
       "      <td>570532</td>\n",
       "    </tr>\n",
       "  </tbody>\n",
       "</table>\n",
       "</div>"
      ],
      "text/plain": [
       "           Quantity\n",
       "timestamp          \n",
       "2009-12      420088\n",
       "2010-1       375363\n",
       "2010-2       368402\n",
       "2010-3       489370\n",
       "2010-4       351971\n",
       "2010-5       364095\n",
       "2010-6       388253\n",
       "2010-7       302201\n",
       "2010-8       451803\n",
       "2010-9       478262\n",
       "2010-10      601729\n",
       "2010-11      673856\n",
       "2010-12      508876\n",
       "2011-1       308966\n",
       "2011-2       277989\n",
       "2011-3       351872\n",
       "2011-4       289098\n",
       "2011-5       380391\n",
       "2011-6       341623\n",
       "2011-7       391116\n",
       "2011-8       406199\n",
       "2011-9       549817\n",
       "2011-10      570532"
      ]
     },
     "execution_count": 97,
     "metadata": {},
     "output_type": "execute_result"
    }
   ],
   "source": [
    "train"
   ]
  },
  {
   "cell_type": "code",
   "execution_count": 100,
   "id": "a85798ee",
   "metadata": {},
   "outputs": [
    {
     "data": {
      "text/html": [
       "<div>\n",
       "<style scoped>\n",
       "    .dataframe tbody tr th:only-of-type {\n",
       "        vertical-align: middle;\n",
       "    }\n",
       "\n",
       "    .dataframe tbody tr th {\n",
       "        vertical-align: top;\n",
       "    }\n",
       "\n",
       "    .dataframe thead th {\n",
       "        text-align: right;\n",
       "    }\n",
       "</style>\n",
       "<table border=\"1\" class=\"dataframe\">\n",
       "  <thead>\n",
       "    <tr style=\"text-align: right;\">\n",
       "      <th></th>\n",
       "      <th>Quantity</th>\n",
       "    </tr>\n",
       "    <tr>\n",
       "      <th>timestamp</th>\n",
       "      <th></th>\n",
       "    </tr>\n",
       "  </thead>\n",
       "  <tbody>\n",
       "    <tr>\n",
       "      <th>2011-11</th>\n",
       "      <td>740286</td>\n",
       "    </tr>\n",
       "    <tr>\n",
       "      <th>2011-12</th>\n",
       "      <td>226334</td>\n",
       "    </tr>\n",
       "  </tbody>\n",
       "</table>\n",
       "</div>"
      ],
      "text/plain": [
       "           Quantity\n",
       "timestamp          \n",
       "2011-11      740286\n",
       "2011-12      226334"
      ]
     },
     "execution_count": 100,
     "metadata": {},
     "output_type": "execute_result"
    }
   ],
   "source": [
    "val"
   ]
  },
  {
   "cell_type": "code",
   "execution_count": 110,
   "id": "b9f115a9",
   "metadata": {},
   "outputs": [],
   "source": [
    "step_num = 2\n",
    "\n",
    "X_features, Y_features = sampling(train['Quantity'], step_num)"
   ]
  },
  {
   "cell_type": "code",
   "execution_count": 111,
   "id": "d6ffbf3a",
   "metadata": {},
   "outputs": [
    {
     "data": {
      "text/plain": [
       "(21, 2)"
      ]
     },
     "execution_count": 111,
     "metadata": {},
     "output_type": "execute_result"
    }
   ],
   "source": [
    "X_features.shape"
   ]
  },
  {
   "cell_type": "code",
   "execution_count": 112,
   "id": "25c899fd",
   "metadata": {},
   "outputs": [],
   "source": [
    "n_features = 1\n",
    "X_features = X_features.reshape((X_features.shape[0], X_features.shape[1], n_features))"
   ]
  },
  {
   "cell_type": "code",
   "execution_count": 117,
   "id": "421b98f4",
   "metadata": {},
   "outputs": [],
   "source": [
    "from tensorflow.keras.models import Sequential\n",
    "from tensorflow.keras.layers import LSTM,Dense\n",
    "\n",
    "model = Sequential()\n",
    "model.add(LSTM(8, activation='relu', input_shape=(step_num, n_features)))\n",
    "model.add(Dense(1))\n",
    "model.compile(optimizer='adam', loss='mape')"
   ]
  },
  {
   "cell_type": "code",
   "execution_count": 118,
   "id": "0e5be88c",
   "metadata": {},
   "outputs": [],
   "source": [
    "history=model.fit(X_features, Y_features, epochs=200, verbose=0)"
   ]
  },
  {
   "cell_type": "code",
   "execution_count": 107,
   "id": "3750b0c3",
   "metadata": {},
   "outputs": [],
   "source": [
    "from numpy import array"
   ]
  },
  {
   "cell_type": "code",
   "execution_count": 129,
   "id": "0ce78c1b",
   "metadata": {},
   "outputs": [],
   "source": [
    "x_input=train['Quantity'].values[-2:]\n",
    "x_input = x_input.reshape((1, step_num, n_features))\n",
    "yhat1 = model.predict(x_input, verbose=0)"
   ]
  },
  {
   "cell_type": "code",
   "execution_count": 150,
   "id": "5a3726d8",
   "metadata": {},
   "outputs": [
    {
     "data": {
      "text/plain": [
       "522386.6"
      ]
     },
     "execution_count": 150,
     "metadata": {},
     "output_type": "execute_result"
    }
   ],
   "source": [
    "yhat1.reshape(-1,)[0]"
   ]
  },
  {
   "cell_type": "code",
   "execution_count": 137,
   "id": "5bfc3fe9",
   "metadata": {},
   "outputs": [],
   "source": [
    "x_input=array([train['Quantity'].values[-1:][0],val['Quantity'].values[0]])\n",
    "x_input = x_input.reshape((1, step_num, n_features))\n",
    "yhat2 = model.predict(x_input, verbose=0)"
   ]
  },
  {
   "cell_type": "code",
   "execution_count": 152,
   "id": "7ff1cac7",
   "metadata": {},
   "outputs": [
    {
     "data": {
      "text/plain": [
       "[522386.6, 594041.0]"
      ]
     },
     "execution_count": 152,
     "metadata": {},
     "output_type": "execute_result"
    }
   ],
   "source": [
    "val['Quantity'].values\n",
    "[yhat1.reshape(-1,)[0],yhat2.reshape(-1,)[0]]"
   ]
  },
  {
   "cell_type": "code",
   "execution_count": 149,
   "id": "a57c477b",
   "metadata": {},
   "outputs": [
    {
     "data": {
      "text/plain": [
       "0.9594830159530975"
      ]
     },
     "execution_count": 149,
     "metadata": {},
     "output_type": "execute_result"
    }
   ],
   "source": [
    "sklearn.metrics.mean_absolute_percentage_error(val['Quantity'].values,[yhat1.reshape(-1,)[0],yhat2.reshape(-1,)[0]])"
   ]
  },
  {
   "cell_type": "markdown",
   "id": "6d49c9d9",
   "metadata": {},
   "source": [
    "LSTM does a bad job here since it is a classic overfit case with less data for training"
   ]
  },
  {
   "cell_type": "markdown",
   "id": "4074e007",
   "metadata": {},
   "source": [
    "lets go with simpler model"
   ]
  },
  {
   "cell_type": "markdown",
   "id": "44feb26f",
   "metadata": {},
   "source": [
    "holtwinters exponential smoothing"
   ]
  },
  {
   "cell_type": "code",
   "execution_count": 177,
   "id": "a46767e0",
   "metadata": {},
   "outputs": [
    {
     "name": "stderr",
     "output_type": "stream",
     "text": [
      "C:\\ProgramData\\Anaconda3\\lib\\site-packages\\statsmodels\\tsa\\base\\tsa_model.py:524: ValueWarning: No frequency information was provided, so inferred frequency MS will be used.\n",
      "  warnings.warn('No frequency information was'\n",
      "C:\\ProgramData\\Anaconda3\\lib\\site-packages\\statsmodels\\tsa\\holtwinters\\model.py:427: FutureWarning: After 0.13 initialization must be handled at model creation\n",
      "  warnings.warn(\n"
     ]
    },
    {
     "data": {
      "text/plain": [
       "<matplotlib.legend.Legend at 0x1829247bdc0>"
      ]
     },
     "execution_count": 177,
     "metadata": {},
     "output_type": "execute_result"
    },
    {
     "data": {
      "image/png": "[encoded data removed]",
      "text/plain": [
       "<Figure size 432x288 with 1 Axes>"
      ]
     },
     "metadata": {
      "needs_background": "light"
     },
     "output_type": "display_data"
    },
    {
     "data": {
      "image/png": "[encoded data removed]",
      "text/plain": [
       "<Figure size 432x288 with 1 Axes>"
      ]
     },
     "metadata": {
      "needs_background": "light"
     },
     "output_type": "display_data"
    },
    {
     "data": {
      "image/png": "[encoded data removed]",
      "text/plain": [
       "<Figure size 864x576 with 1 Axes>"
      ]
     },
     "metadata": {
      "needs_background": "light"
     },
     "output_type": "display_data"
    }
   ],
   "source": [
    "from sklearn.metrics import mean_absolute_percentage_error\n",
    "from statsmodels.tsa.holtwinters import SimpleExpSmoothing\n",
    "ts=agg_data_quant_sold_by_month_year\n",
    "ts[['Quantity']].plot(title='Quantity')\n",
    "x=12###year\n",
    "alpha=1/(2*x)\n",
    "ts['HW1'] = SimpleExpSmoothing(ts['Quantity']).fit(smoothing_level=alpha,optimized=False,use_brute=True).fittedvalues      \n",
    "ts[['Quantity','HW1']].plot(title='Holt Winters exponential smoothing graph(single)')\n",
    "split_idx = int(np.ceil(len(agg_data_quant_sold_by_month_year)*0.90))\n",
    "\n",
    "\n",
    "# Split\n",
    "train = ts['Quantity'].values[:split_idx]\n",
    "train\n",
    "val=ts['Quantity'].values[split_idx+1:]\n",
    "# Visualize split\n",
    "fig,ax= plt.subplots(figsize=(12,8))\n",
    "kws = dict(marker='o')\n",
    "plt.plot(train, label='Train', **kws)\n",
    "plt.plot(val,label='test',**kws)\n",
    "ax.legend(bbox_to_anchor=[1,1])\n",
    "#ax.set_xticklabels(ts['Quantity'].index, rotation=70);"
   ]
  },
  {
   "cell_type": "code",
   "execution_count": 175,
   "id": "df19840f",
   "metadata": {},
   "outputs": [
    {
     "data": {
      "text/plain": [
       "array([226334], dtype=int64)"
      ]
     },
     "execution_count": 175,
     "metadata": {},
     "output_type": "execute_result"
    }
   ],
   "source": [
    "val"
   ]
  },
  {
   "cell_type": "code",
   "execution_count": 171,
   "id": "db06f759",
   "metadata": {},
   "outputs": [
    {
     "data": {
      "text/plain": [
       "0.9219543840718701"
      ]
     },
     "execution_count": 171,
     "metadata": {},
     "output_type": "execute_result"
    }
   ],
   "source": [
    "mean_absolute_percentage_error(ts['Quantity'].values[split_idx+1:],ts['HW1'].values[split_idx+1:])"
   ]
  },
  {
   "cell_type": "code",
   "execution_count": 179,
   "id": "713e646c",
   "metadata": {},
   "outputs": [],
   "source": [
    "###since the data above is very less for just 12 months all these models are overfit and giving bad results\n",
    "##had we had more data the above models can be compared considered\n",
    "# as of now the arima(0.87)>(holt winters exponential smoothing(0.92)>(LSTM 0.95))\n",
    "#so far arima is doing a good job "
   ]
  },
  {
   "cell_type": "raw",
   "id": "9b2709c9",
   "metadata": {},
   "source": [
    "Objective \n",
    "●\tTo identify the method with which a healthy relationship between data-driven decision and data science making can help decision making by scrutinizing data and deriving insights from data.\n",
    "##The method used here is ARIMA model and tried to predict the quantity demand for 2012- jan, with a absolute error of a large \n",
    "# if we tune the model further it will be reduced to a manageable number\n",
    "●\tTo evaluate the relationship between data-driven decisions and data science that will help to make sound decisions.\n",
    "##yes with help of data science modeling it is possible to identify the hidden patterns in the data\n",
    "●\tTo analyze the benefits of using data science and data-driven decisions in helping companies make sound decisions.\n",
    "##here if the model if finetuned further for reduced error, it can help in prediction of quantity of products sold and manage the warehouse accordingly\n",
    "\n",
    "●\tTo analyze the disadvantages of data science and data-driven decisions in big companies' decision-making.\n",
    "##here the error if you see is huge number , the model tells the yhat_conf_int tells that the confidence interval is huge range which\n",
    "##will reduce once we start adding more data points, 13 is very less data points to start wth, so the data science and data driven \n",
    "##are good only if the data is available\n",
    "●\tTo find out the challenge of implementing  data-driven decision and data science making by the business.\n",
    "## the data needs to be more, if the data is less the algorithms like ARIMA that was shown above does not yield accurate results\n",
    "●\tTo purpose, solutions to be resolved in the relationship between data-driven decision and data science.\n",
    "##work needs to be done to create more useful data then the data driven decisions can be taken on the basis of data science models.\n"
   ]
  }
 ],
 "metadata": {
  "kernelspec": {
   "display_name": "Python 3 (ipykernel)",
   "language": "python",
   "name": "python3"
  },
  "language_info": {
   "codemirror_mode": {
    "name": "ipython",
    "version": 3
   },
   "file_extension": ".py",
   "mimetype": "text/x-python",
   "name": "python",
   "nbconvert_exporter": "python",
   "pygments_lexer": "ipython3",
   "version": "3.9.7"
  }
 },
 "nbformat": 4,
 "nbformat_minor": 5
}
