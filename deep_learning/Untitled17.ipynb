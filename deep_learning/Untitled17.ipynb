{
  "nbformat": 4,
  "nbformat_minor": 0,
  "metadata": {
    "colab": {
      "provenance": []
    },
    "kernelspec": {
      "name": "python3",
      "display_name": "Python 3"
    },
    "language_info": {
      "name": "python"
    }
  },
  "cells": [
    {
      "cell_type": "code",
      "execution_count": 1,
      "metadata": {
        "colab": {
          "base_uri": "https://localhost:8080/"
        },
        "id": "qu6_h4u9YdzO",
        "outputId": "7f6499a3-ca68-462e-fb44-5657a3c866f9"
      },
      "outputs": [
        {
          "output_type": "stream",
          "name": "stdout",
          "text": [
            "--2023-06-29 09:00:36--  https://storage.googleapis.com/tensorflow-1-public/course3/sarcasm.json\n",
            "Resolving storage.googleapis.com (storage.googleapis.com)... 108.177.127.128, 172.217.218.128, 142.251.31.128, ...\n",
            "Connecting to storage.googleapis.com (storage.googleapis.com)|108.177.127.128|:443... connected.\n",
            "HTTP request sent, awaiting response... 200 OK\n",
            "Length: 5643545 (5.4M) [application/json]\n",
            "Saving to: ‘sarcasm.json’\n",
            "\n",
            "sarcasm.json        100%[===================>]   5.38M  9.17MB/s    in 0.6s    \n",
            "\n",
            "2023-06-29 09:00:36 (9.17 MB/s) - ‘sarcasm.json’ saved [5643545/5643545]\n",
            "\n"
          ]
        }
      ],
      "source": [
        "!wget https://storage.googleapis.com/tensorflow-1-public/course3/sarcasm.json"
      ]
    },
    {
      "cell_type": "code",
      "source": [
        "import json\n",
        "import numpy as np"
      ],
      "metadata": {
        "id": "CF_4H4qFYew_"
      },
      "execution_count": 27,
      "outputs": []
    },
    {
      "cell_type": "code",
      "source": [
        "with open('sarcasm.json','r') as f:\n",
        "  datastore=json.load(f)"
      ],
      "metadata": {
        "id": "LAAbWXSzYok5"
      },
      "execution_count": 28,
      "outputs": []
    },
    {
      "cell_type": "code",
      "source": [
        "sentances=[]\n",
        "labels=[]\n",
        "for item in datastore:\n",
        "  sentances.append(item['headline'])\n",
        "  labels.append(item['is_sarcastic'])"
      ],
      "metadata": {
        "id": "Ef_X1IwnZHcz"
      },
      "execution_count": 39,
      "outputs": []
    },
    {
      "cell_type": "code",
      "source": [
        "len(sentances)"
      ],
      "metadata": {
        "colab": {
          "base_uri": "https://localhost:8080/"
        },
        "id": "gzeJcNSFZI6t",
        "outputId": "1feabea7-0264-44f2-9112-13b8ed5cbc6b"
      },
      "execution_count": 40,
      "outputs": [
        {
          "output_type": "execute_result",
          "data": {
            "text/plain": [
              "26709"
            ]
          },
          "metadata": {},
          "execution_count": 40
        }
      ]
    },
    {
      "cell_type": "code",
      "source": [
        "training_size=20000\n",
        "training_sequences=sentances[:training_size]\n",
        "testing_sequences=sentances[training_size:]\n",
        "train_labels=labels[:training_size]\n",
        "test_labels=labels[training_size:]"
      ],
      "metadata": {
        "id": "hAqH-DyHZen-"
      },
      "execution_count": 41,
      "outputs": []
    },
    {
      "cell_type": "code",
      "source": [
        "train_label=np.array(train_labels)\n",
        "test_label=np.array(test_labels)"
      ],
      "metadata": {
        "id": "_3MQ9XfwaCLh"
      },
      "execution_count": 42,
      "outputs": []
    },
    {
      "cell_type": "code",
      "source": [
        "from tensorflow.keras.preprocessing.text import Tokenizer\n",
        "from tensorflow.keras.preprocessing.sequence import pad_sequences"
      ],
      "metadata": {
        "id": "jBkSsXy3aMhy"
      },
      "execution_count": 43,
      "outputs": []
    },
    {
      "cell_type": "code",
      "source": [
        "tokenizer=Tokenizer(num_words=1000,oov_token='<oov>')\n",
        "tokenizer.fit_on_texts(training_sequences)\n",
        "word_index=tokenizer.word_index\n",
        "train_sequences=tokenizer.texts_to_sequences(training_sequences)\n",
        "test_sequences=tokenizer.texts_to_sequences(testing_sequences)\n",
        "train_pad=pad_sequences(train_sequences,maxlen=120,truncating='post',padding='post')\n",
        "test_pad=pad_sequences(test_sequences,maxlen=120,truncating='post',padding='post')"
      ],
      "metadata": {
        "id": "mZXO7EYTaV5l"
      },
      "execution_count": 44,
      "outputs": []
    },
    {
      "cell_type": "code",
      "source": [
        "from tensorflow.keras.models import Sequential\n",
        "from tensorflow.keras.layers import Embedding,GRU,Dense,LSTM"
      ],
      "metadata": {
        "id": "2egIMyovb1da"
      },
      "execution_count": 45,
      "outputs": []
    },
    {
      "cell_type": "code",
      "source": [
        "model=Sequential()\n",
        "model.add(Embedding(1000,16,input_length=120))\n",
        "model.add(GRU(32,activation='relu'))\n",
        "model.add(Dense(24,activation='relu'))\n",
        "model.add(Dense(1,activation='sigmoid'))\n",
        "model.compile(optimizer='adam',loss='binary_crossentropy',metrics=['accuracy'])\n"
      ],
      "metadata": {
        "id": "RmLUZKpwcM7-"
      },
      "execution_count": 46,
      "outputs": []
    },
    {
      "cell_type": "code",
      "source": [
        "model.fit(train_pad,train_label,validation_data=(test_pad,test_label),epochs=10)"
      ],
      "metadata": {
        "colab": {
          "base_uri": "https://localhost:8080/"
        },
        "id": "_Vc-sj0Qc6ut",
        "outputId": "0a30a133-246a-4d91-eecb-830d64f15341"
      },
      "execution_count": 47,
      "outputs": [
        {
          "output_type": "stream",
          "name": "stdout",
          "text": [
            "Epoch 1/10\n",
            "625/625 [==============================] - 35s 52ms/step - loss: 0.6866 - accuracy: 0.5599 - val_loss: 0.6852 - val_accuracy: 0.5633\n",
            "Epoch 2/10\n",
            "625/625 [==============================] - 31s 49ms/step - loss: 0.6861 - accuracy: 0.5603 - val_loss: 0.6853 - val_accuracy: 0.5633\n",
            "Epoch 3/10\n",
            "625/625 [==============================] - 33s 52ms/step - loss: 0.6861 - accuracy: 0.5603 - val_loss: 0.6852 - val_accuracy: 0.5633\n",
            "Epoch 4/10\n",
            "625/625 [==============================] - 30s 48ms/step - loss: 0.6859 - accuracy: 0.5603 - val_loss: 0.6854 - val_accuracy: 0.5633\n",
            "Epoch 5/10\n",
            "625/625 [==============================] - 30s 48ms/step - loss: 0.6860 - accuracy: 0.5603 - val_loss: 0.6859 - val_accuracy: 0.5633\n",
            "Epoch 6/10\n",
            "625/625 [==============================] - 31s 50ms/step - loss: 0.6860 - accuracy: 0.5603 - val_loss: 0.6855 - val_accuracy: 0.5633\n",
            "Epoch 7/10\n",
            "625/625 [==============================] - 30s 48ms/step - loss: 0.6860 - accuracy: 0.5603 - val_loss: 0.6857 - val_accuracy: 0.5633\n",
            "Epoch 8/10\n",
            "625/625 [==============================] - 32s 51ms/step - loss: 0.6860 - accuracy: 0.5603 - val_loss: 0.6852 - val_accuracy: 0.5633\n",
            "Epoch 9/10\n",
            "625/625 [==============================] - 32s 50ms/step - loss: 0.6859 - accuracy: 0.5603 - val_loss: 0.6851 - val_accuracy: 0.5633\n",
            "Epoch 10/10\n",
            "625/625 [==============================] - 30s 48ms/step - loss: 0.6860 - accuracy: 0.5603 - val_loss: 0.6856 - val_accuracy: 0.5633\n"
          ]
        },
        {
          "output_type": "execute_result",
          "data": {
            "text/plain": [
              "<keras.callbacks.History at 0x7f1ee41c93c0>"
            ]
          },
          "metadata": {},
          "execution_count": 47
        }
      ]
    },
    {
      "cell_type": "code",
      "source": [
        "pred=(model.predict(test_pad)>0.5).astype(int)"
      ],
      "metadata": {
        "colab": {
          "base_uri": "https://localhost:8080/"
        },
        "id": "dD5anTPrdJdQ",
        "outputId": "21d1bb45-cbb8-484c-dbe3-2b48281d5c0e"
      },
      "execution_count": 51,
      "outputs": [
        {
          "output_type": "stream",
          "name": "stdout",
          "text": [
            "210/210 [==============================] - 3s 13ms/step\n"
          ]
        }
      ]
    },
    {
      "cell_type": "code",
      "source": [
        "from sklearn.metrics import classification_report"
      ],
      "metadata": {
        "id": "ndkv8p7ReEPN"
      },
      "execution_count": 49,
      "outputs": []
    },
    {
      "cell_type": "code",
      "source": [
        "print(classification_report(test_label,pred,zero_division=0))"
      ],
      "metadata": {
        "colab": {
          "base_uri": "https://localhost:8080/"
        },
        "id": "eUyaytcAfvY4",
        "outputId": "f135765d-870c-46b6-bd2a-4410b66d13e5"
      },
      "execution_count": 58,
      "outputs": [
        {
          "output_type": "stream",
          "name": "stdout",
          "text": [
            "              precision    recall  f1-score   support\n",
            "\n",
            "           0       0.56      1.00      0.72      3779\n",
            "           1       0.00      0.00      0.00      2930\n",
            "\n",
            "    accuracy                           0.56      6709\n",
            "   macro avg       0.28      0.50      0.36      6709\n",
            "weighted avg       0.32      0.56      0.41      6709\n",
            "\n"
          ]
        }
      ]
    },
    {
      "cell_type": "code",
      "source": [],
      "metadata": {
        "id": "qoLyEikbi7dA"
      },
      "execution_count": null,
      "outputs": []
    }
  ]
}