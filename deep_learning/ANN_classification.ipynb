{
 "cells": [
  {
   "cell_type": "code",
   "execution_count": 44,
   "metadata": {},
   "outputs": [],
   "source": [
    "import numpy as np\n",
    "import pandas as pd\n",
    "import matplotlib.pyplot as plt\n"
   ]
  },
  {
   "cell_type": "code",
   "execution_count": 45,
   "metadata": {},
   "outputs": [],
   "source": [
    "df=pd.read_csv('../data/cancer_classification.csv')"
   ]
  },
  {
   "cell_type": "code",
   "execution_count": 46,
   "metadata": {},
   "outputs": [
    {
     "data": {
      "text/html": [
       "<div>\n",
       "<style scoped>\n",
       "    .dataframe tbody tr th:only-of-type {\n",
       "        vertical-align: middle;\n",
       "    }\n",
       "\n",
       "    .dataframe tbody tr th {\n",
       "        vertical-align: top;\n",
       "    }\n",
       "\n",
       "    .dataframe thead th {\n",
       "        text-align: right;\n",
       "    }\n",
       "</style>\n",
       "<table border=\"1\" class=\"dataframe\">\n",
       "  <thead>\n",
       "    <tr style=\"text-align: right;\">\n",
       "      <th></th>\n",
       "      <th>mean radius</th>\n",
       "      <th>mean texture</th>\n",
       "      <th>mean perimeter</th>\n",
       "      <th>mean area</th>\n",
       "      <th>mean smoothness</th>\n",
       "      <th>mean compactness</th>\n",
       "      <th>mean concavity</th>\n",
       "      <th>mean concave points</th>\n",
       "      <th>mean symmetry</th>\n",
       "      <th>mean fractal dimension</th>\n",
       "      <th>...</th>\n",
       "      <th>worst texture</th>\n",
       "      <th>worst perimeter</th>\n",
       "      <th>worst area</th>\n",
       "      <th>worst smoothness</th>\n",
       "      <th>worst compactness</th>\n",
       "      <th>worst concavity</th>\n",
       "      <th>worst concave points</th>\n",
       "      <th>worst symmetry</th>\n",
       "      <th>worst fractal dimension</th>\n",
       "      <th>benign_0__mal_1</th>\n",
       "    </tr>\n",
       "  </thead>\n",
       "  <tbody>\n",
       "    <tr>\n",
       "      <th>0</th>\n",
       "      <td>17.99</td>\n",
       "      <td>10.38</td>\n",
       "      <td>122.80</td>\n",
       "      <td>1001.0</td>\n",
       "      <td>0.11840</td>\n",
       "      <td>0.27760</td>\n",
       "      <td>0.30010</td>\n",
       "      <td>0.14710</td>\n",
       "      <td>0.2419</td>\n",
       "      <td>0.07871</td>\n",
       "      <td>...</td>\n",
       "      <td>17.33</td>\n",
       "      <td>184.60</td>\n",
       "      <td>2019.0</td>\n",
       "      <td>0.16220</td>\n",
       "      <td>0.66560</td>\n",
       "      <td>0.7119</td>\n",
       "      <td>0.2654</td>\n",
       "      <td>0.4601</td>\n",
       "      <td>0.11890</td>\n",
       "      <td>0</td>\n",
       "    </tr>\n",
       "    <tr>\n",
       "      <th>1</th>\n",
       "      <td>20.57</td>\n",
       "      <td>17.77</td>\n",
       "      <td>132.90</td>\n",
       "      <td>1326.0</td>\n",
       "      <td>0.08474</td>\n",
       "      <td>0.07864</td>\n",
       "      <td>0.08690</td>\n",
       "      <td>0.07017</td>\n",
       "      <td>0.1812</td>\n",
       "      <td>0.05667</td>\n",
       "      <td>...</td>\n",
       "      <td>23.41</td>\n",
       "      <td>158.80</td>\n",
       "      <td>1956.0</td>\n",
       "      <td>0.12380</td>\n",
       "      <td>0.18660</td>\n",
       "      <td>0.2416</td>\n",
       "      <td>0.1860</td>\n",
       "      <td>0.2750</td>\n",
       "      <td>0.08902</td>\n",
       "      <td>0</td>\n",
       "    </tr>\n",
       "    <tr>\n",
       "      <th>2</th>\n",
       "      <td>19.69</td>\n",
       "      <td>21.25</td>\n",
       "      <td>130.00</td>\n",
       "      <td>1203.0</td>\n",
       "      <td>0.10960</td>\n",
       "      <td>0.15990</td>\n",
       "      <td>0.19740</td>\n",
       "      <td>0.12790</td>\n",
       "      <td>0.2069</td>\n",
       "      <td>0.05999</td>\n",
       "      <td>...</td>\n",
       "      <td>25.53</td>\n",
       "      <td>152.50</td>\n",
       "      <td>1709.0</td>\n",
       "      <td>0.14440</td>\n",
       "      <td>0.42450</td>\n",
       "      <td>0.4504</td>\n",
       "      <td>0.2430</td>\n",
       "      <td>0.3613</td>\n",
       "      <td>0.08758</td>\n",
       "      <td>0</td>\n",
       "    </tr>\n",
       "    <tr>\n",
       "      <th>3</th>\n",
       "      <td>11.42</td>\n",
       "      <td>20.38</td>\n",
       "      <td>77.58</td>\n",
       "      <td>386.1</td>\n",
       "      <td>0.14250</td>\n",
       "      <td>0.28390</td>\n",
       "      <td>0.24140</td>\n",
       "      <td>0.10520</td>\n",
       "      <td>0.2597</td>\n",
       "      <td>0.09744</td>\n",
       "      <td>...</td>\n",
       "      <td>26.50</td>\n",
       "      <td>98.87</td>\n",
       "      <td>567.7</td>\n",
       "      <td>0.20980</td>\n",
       "      <td>0.86630</td>\n",
       "      <td>0.6869</td>\n",
       "      <td>0.2575</td>\n",
       "      <td>0.6638</td>\n",
       "      <td>0.17300</td>\n",
       "      <td>0</td>\n",
       "    </tr>\n",
       "    <tr>\n",
       "      <th>4</th>\n",
       "      <td>20.29</td>\n",
       "      <td>14.34</td>\n",
       "      <td>135.10</td>\n",
       "      <td>1297.0</td>\n",
       "      <td>0.10030</td>\n",
       "      <td>0.13280</td>\n",
       "      <td>0.19800</td>\n",
       "      <td>0.10430</td>\n",
       "      <td>0.1809</td>\n",
       "      <td>0.05883</td>\n",
       "      <td>...</td>\n",
       "      <td>16.67</td>\n",
       "      <td>152.20</td>\n",
       "      <td>1575.0</td>\n",
       "      <td>0.13740</td>\n",
       "      <td>0.20500</td>\n",
       "      <td>0.4000</td>\n",
       "      <td>0.1625</td>\n",
       "      <td>0.2364</td>\n",
       "      <td>0.07678</td>\n",
       "      <td>0</td>\n",
       "    </tr>\n",
       "    <tr>\n",
       "      <th>...</th>\n",
       "      <td>...</td>\n",
       "      <td>...</td>\n",
       "      <td>...</td>\n",
       "      <td>...</td>\n",
       "      <td>...</td>\n",
       "      <td>...</td>\n",
       "      <td>...</td>\n",
       "      <td>...</td>\n",
       "      <td>...</td>\n",
       "      <td>...</td>\n",
       "      <td>...</td>\n",
       "      <td>...</td>\n",
       "      <td>...</td>\n",
       "      <td>...</td>\n",
       "      <td>...</td>\n",
       "      <td>...</td>\n",
       "      <td>...</td>\n",
       "      <td>...</td>\n",
       "      <td>...</td>\n",
       "      <td>...</td>\n",
       "      <td>...</td>\n",
       "    </tr>\n",
       "    <tr>\n",
       "      <th>564</th>\n",
       "      <td>21.56</td>\n",
       "      <td>22.39</td>\n",
       "      <td>142.00</td>\n",
       "      <td>1479.0</td>\n",
       "      <td>0.11100</td>\n",
       "      <td>0.11590</td>\n",
       "      <td>0.24390</td>\n",
       "      <td>0.13890</td>\n",
       "      <td>0.1726</td>\n",
       "      <td>0.05623</td>\n",
       "      <td>...</td>\n",
       "      <td>26.40</td>\n",
       "      <td>166.10</td>\n",
       "      <td>2027.0</td>\n",
       "      <td>0.14100</td>\n",
       "      <td>0.21130</td>\n",
       "      <td>0.4107</td>\n",
       "      <td>0.2216</td>\n",
       "      <td>0.2060</td>\n",
       "      <td>0.07115</td>\n",
       "      <td>0</td>\n",
       "    </tr>\n",
       "    <tr>\n",
       "      <th>565</th>\n",
       "      <td>20.13</td>\n",
       "      <td>28.25</td>\n",
       "      <td>131.20</td>\n",
       "      <td>1261.0</td>\n",
       "      <td>0.09780</td>\n",
       "      <td>0.10340</td>\n",
       "      <td>0.14400</td>\n",
       "      <td>0.09791</td>\n",
       "      <td>0.1752</td>\n",
       "      <td>0.05533</td>\n",
       "      <td>...</td>\n",
       "      <td>38.25</td>\n",
       "      <td>155.00</td>\n",
       "      <td>1731.0</td>\n",
       "      <td>0.11660</td>\n",
       "      <td>0.19220</td>\n",
       "      <td>0.3215</td>\n",
       "      <td>0.1628</td>\n",
       "      <td>0.2572</td>\n",
       "      <td>0.06637</td>\n",
       "      <td>0</td>\n",
       "    </tr>\n",
       "    <tr>\n",
       "      <th>566</th>\n",
       "      <td>16.60</td>\n",
       "      <td>28.08</td>\n",
       "      <td>108.30</td>\n",
       "      <td>858.1</td>\n",
       "      <td>0.08455</td>\n",
       "      <td>0.10230</td>\n",
       "      <td>0.09251</td>\n",
       "      <td>0.05302</td>\n",
       "      <td>0.1590</td>\n",
       "      <td>0.05648</td>\n",
       "      <td>...</td>\n",
       "      <td>34.12</td>\n",
       "      <td>126.70</td>\n",
       "      <td>1124.0</td>\n",
       "      <td>0.11390</td>\n",
       "      <td>0.30940</td>\n",
       "      <td>0.3403</td>\n",
       "      <td>0.1418</td>\n",
       "      <td>0.2218</td>\n",
       "      <td>0.07820</td>\n",
       "      <td>0</td>\n",
       "    </tr>\n",
       "    <tr>\n",
       "      <th>567</th>\n",
       "      <td>20.60</td>\n",
       "      <td>29.33</td>\n",
       "      <td>140.10</td>\n",
       "      <td>1265.0</td>\n",
       "      <td>0.11780</td>\n",
       "      <td>0.27700</td>\n",
       "      <td>0.35140</td>\n",
       "      <td>0.15200</td>\n",
       "      <td>0.2397</td>\n",
       "      <td>0.07016</td>\n",
       "      <td>...</td>\n",
       "      <td>39.42</td>\n",
       "      <td>184.60</td>\n",
       "      <td>1821.0</td>\n",
       "      <td>0.16500</td>\n",
       "      <td>0.86810</td>\n",
       "      <td>0.9387</td>\n",
       "      <td>0.2650</td>\n",
       "      <td>0.4087</td>\n",
       "      <td>0.12400</td>\n",
       "      <td>0</td>\n",
       "    </tr>\n",
       "    <tr>\n",
       "      <th>568</th>\n",
       "      <td>7.76</td>\n",
       "      <td>24.54</td>\n",
       "      <td>47.92</td>\n",
       "      <td>181.0</td>\n",
       "      <td>0.05263</td>\n",
       "      <td>0.04362</td>\n",
       "      <td>0.00000</td>\n",
       "      <td>0.00000</td>\n",
       "      <td>0.1587</td>\n",
       "      <td>0.05884</td>\n",
       "      <td>...</td>\n",
       "      <td>30.37</td>\n",
       "      <td>59.16</td>\n",
       "      <td>268.6</td>\n",
       "      <td>0.08996</td>\n",
       "      <td>0.06444</td>\n",
       "      <td>0.0000</td>\n",
       "      <td>0.0000</td>\n",
       "      <td>0.2871</td>\n",
       "      <td>0.07039</td>\n",
       "      <td>1</td>\n",
       "    </tr>\n",
       "  </tbody>\n",
       "</table>\n",
       "<p>569 rows × 31 columns</p>\n",
       "</div>"
      ],
      "text/plain": [
       "     mean radius  mean texture  mean perimeter  mean area  mean smoothness   \n",
       "0          17.99         10.38          122.80     1001.0          0.11840  \\\n",
       "1          20.57         17.77          132.90     1326.0          0.08474   \n",
       "2          19.69         21.25          130.00     1203.0          0.10960   \n",
       "3          11.42         20.38           77.58      386.1          0.14250   \n",
       "4          20.29         14.34          135.10     1297.0          0.10030   \n",
       "..           ...           ...             ...        ...              ...   \n",
       "564        21.56         22.39          142.00     1479.0          0.11100   \n",
       "565        20.13         28.25          131.20     1261.0          0.09780   \n",
       "566        16.60         28.08          108.30      858.1          0.08455   \n",
       "567        20.60         29.33          140.10     1265.0          0.11780   \n",
       "568         7.76         24.54           47.92      181.0          0.05263   \n",
       "\n",
       "     mean compactness  mean concavity  mean concave points  mean symmetry   \n",
       "0             0.27760         0.30010              0.14710         0.2419  \\\n",
       "1             0.07864         0.08690              0.07017         0.1812   \n",
       "2             0.15990         0.19740              0.12790         0.2069   \n",
       "3             0.28390         0.24140              0.10520         0.2597   \n",
       "4             0.13280         0.19800              0.10430         0.1809   \n",
       "..                ...             ...                  ...            ...   \n",
       "564           0.11590         0.24390              0.13890         0.1726   \n",
       "565           0.10340         0.14400              0.09791         0.1752   \n",
       "566           0.10230         0.09251              0.05302         0.1590   \n",
       "567           0.27700         0.35140              0.15200         0.2397   \n",
       "568           0.04362         0.00000              0.00000         0.1587   \n",
       "\n",
       "     mean fractal dimension  ...  worst texture  worst perimeter  worst area   \n",
       "0                   0.07871  ...          17.33           184.60      2019.0  \\\n",
       "1                   0.05667  ...          23.41           158.80      1956.0   \n",
       "2                   0.05999  ...          25.53           152.50      1709.0   \n",
       "3                   0.09744  ...          26.50            98.87       567.7   \n",
       "4                   0.05883  ...          16.67           152.20      1575.0   \n",
       "..                      ...  ...            ...              ...         ...   \n",
       "564                 0.05623  ...          26.40           166.10      2027.0   \n",
       "565                 0.05533  ...          38.25           155.00      1731.0   \n",
       "566                 0.05648  ...          34.12           126.70      1124.0   \n",
       "567                 0.07016  ...          39.42           184.60      1821.0   \n",
       "568                 0.05884  ...          30.37            59.16       268.6   \n",
       "\n",
       "     worst smoothness  worst compactness  worst concavity   \n",
       "0             0.16220            0.66560           0.7119  \\\n",
       "1             0.12380            0.18660           0.2416   \n",
       "2             0.14440            0.42450           0.4504   \n",
       "3             0.20980            0.86630           0.6869   \n",
       "4             0.13740            0.20500           0.4000   \n",
       "..                ...                ...              ...   \n",
       "564           0.14100            0.21130           0.4107   \n",
       "565           0.11660            0.19220           0.3215   \n",
       "566           0.11390            0.30940           0.3403   \n",
       "567           0.16500            0.86810           0.9387   \n",
       "568           0.08996            0.06444           0.0000   \n",
       "\n",
       "     worst concave points  worst symmetry  worst fractal dimension   \n",
       "0                  0.2654          0.4601                  0.11890  \\\n",
       "1                  0.1860          0.2750                  0.08902   \n",
       "2                  0.2430          0.3613                  0.08758   \n",
       "3                  0.2575          0.6638                  0.17300   \n",
       "4                  0.1625          0.2364                  0.07678   \n",
       "..                    ...             ...                      ...   \n",
       "564                0.2216          0.2060                  0.07115   \n",
       "565                0.1628          0.2572                  0.06637   \n",
       "566                0.1418          0.2218                  0.07820   \n",
       "567                0.2650          0.4087                  0.12400   \n",
       "568                0.0000          0.2871                  0.07039   \n",
       "\n",
       "     benign_0__mal_1  \n",
       "0                  0  \n",
       "1                  0  \n",
       "2                  0  \n",
       "3                  0  \n",
       "4                  0  \n",
       "..               ...  \n",
       "564                0  \n",
       "565                0  \n",
       "566                0  \n",
       "567                0  \n",
       "568                1  \n",
       "\n",
       "[569 rows x 31 columns]"
      ]
     },
     "execution_count": 46,
     "metadata": {},
     "output_type": "execute_result"
    }
   ],
   "source": [
    "df"
   ]
  },
  {
   "cell_type": "code",
   "execution_count": 47,
   "metadata": {},
   "outputs": [],
   "source": [
    "x=df.drop('benign_0__mal_1',axis=1).values\n",
    "y=df['benign_0__mal_1'].values"
   ]
  },
  {
   "cell_type": "code",
   "execution_count": 48,
   "metadata": {},
   "outputs": [],
   "source": [
    "from sklearn.model_selection import train_test_split"
   ]
  },
  {
   "cell_type": "code",
   "execution_count": 49,
   "metadata": {},
   "outputs": [],
   "source": [
    "x_train,x_test,y_train,y_test=train_test_split(x,y,test_size=0.3,random_state=101)"
   ]
  },
  {
   "cell_type": "code",
   "execution_count": 50,
   "metadata": {},
   "outputs": [],
   "source": [
    "from sklearn.preprocessing import MinMaxScaler"
   ]
  },
  {
   "cell_type": "code",
   "execution_count": 51,
   "metadata": {},
   "outputs": [],
   "source": [
    "scaler=MinMaxScaler()"
   ]
  },
  {
   "cell_type": "code",
   "execution_count": 52,
   "metadata": {},
   "outputs": [],
   "source": [
    "x_train=scaler.fit_transform(x_train)\n",
    "x_test=scaler.transform(x_test)"
   ]
  },
  {
   "cell_type": "code",
   "execution_count": 53,
   "metadata": {},
   "outputs": [],
   "source": [
    "from tensorflow.keras.models import Sequential\n",
    "from tensorflow.keras.layers import Dense,Dropout\n",
    "from tensorflow.keras.callbacks import TensorBoard,EarlyStopping"
   ]
  },
  {
   "cell_type": "code",
   "execution_count": 54,
   "metadata": {},
   "outputs": [],
   "source": [
    "model=Sequential()\n",
    "model.add(Dense(30,activation='relu'))\n",
    "model.add(Dropout(0.5))\n",
    "model.add(Dense(15,activation='relu'))\n",
    "model.add(Dense(1,activation='sigmoid'))\n",
    "model.compile(optimizer='adam',loss='binary_crossentropy',metrics=['accuracy'])"
   ]
  },
  {
   "cell_type": "code",
   "execution_count": 55,
   "metadata": {},
   "outputs": [],
   "source": [
    "from datetime import datetime"
   ]
  },
  {
   "cell_type": "code",
   "execution_count": 56,
   "metadata": {},
   "outputs": [
    {
     "data": {
      "text/plain": [
       "'13-04-2023--204008'"
      ]
     },
     "execution_count": 56,
     "metadata": {},
     "output_type": "execute_result"
    }
   ],
   "source": [
    "timestamp=datetime.now().strftime('%d-%m-%Y--%H%M%S')\n",
    "timestamp"
   ]
  },
  {
   "cell_type": "code",
   "execution_count": 57,
   "metadata": {},
   "outputs": [],
   "source": [
    "early=EarlyStopping(monitor='val_loss',mode='min',patience=10)"
   ]
  },
  {
   "cell_type": "code",
   "execution_count": 58,
   "metadata": {},
   "outputs": [
    {
     "name": "stdout",
     "output_type": "stream",
     "text": [
      "Epoch 1/450\n",
      "13/13 [==============================] - 1s 23ms/step - loss: 0.7198 - accuracy: 0.4095 - val_loss: 0.6953 - val_accuracy: 0.4386\n",
      "Epoch 2/450\n",
      "13/13 [==============================] - 0s 8ms/step - loss: 0.6862 - accuracy: 0.5050 - val_loss: 0.6610 - val_accuracy: 0.7485\n",
      "Epoch 3/450\n",
      "13/13 [==============================] - 0s 8ms/step - loss: 0.6495 - accuracy: 0.6709 - val_loss: 0.6280 - val_accuracy: 0.9064\n",
      "Epoch 4/450\n",
      "13/13 [==============================] - 0s 8ms/step - loss: 0.6162 - accuracy: 0.7789 - val_loss: 0.5883 - val_accuracy: 0.9006\n",
      "Epoch 5/450\n",
      "13/13 [==============================] - 0s 8ms/step - loss: 0.5911 - accuracy: 0.8015 - val_loss: 0.5498 - val_accuracy: 0.8772\n",
      "Epoch 6/450\n",
      "13/13 [==============================] - 0s 8ms/step - loss: 0.5431 - accuracy: 0.8342 - val_loss: 0.5101 - val_accuracy: 0.8772\n",
      "Epoch 7/450\n",
      "13/13 [==============================] - 0s 8ms/step - loss: 0.5114 - accuracy: 0.8367 - val_loss: 0.4694 - val_accuracy: 0.8830\n",
      "Epoch 8/450\n",
      "13/13 [==============================] - 0s 8ms/step - loss: 0.4633 - accuracy: 0.8668 - val_loss: 0.4330 - val_accuracy: 0.8830\n",
      "Epoch 9/450\n",
      "13/13 [==============================] - 0s 8ms/step - loss: 0.4313 - accuracy: 0.8693 - val_loss: 0.3970 - val_accuracy: 0.8830\n",
      "Epoch 10/450\n",
      "13/13 [==============================] - 0s 8ms/step - loss: 0.4054 - accuracy: 0.8719 - val_loss: 0.3620 - val_accuracy: 0.9123\n",
      "Epoch 11/450\n",
      "13/13 [==============================] - 0s 8ms/step - loss: 0.3876 - accuracy: 0.8593 - val_loss: 0.3352 - val_accuracy: 0.9298\n",
      "Epoch 12/450\n",
      "13/13 [==============================] - 0s 8ms/step - loss: 0.3604 - accuracy: 0.8769 - val_loss: 0.3152 - val_accuracy: 0.9181\n",
      "Epoch 13/450\n",
      "13/13 [==============================] - 0s 8ms/step - loss: 0.3394 - accuracy: 0.8869 - val_loss: 0.3018 - val_accuracy: 0.8889\n",
      "Epoch 14/450\n",
      "13/13 [==============================] - 0s 8ms/step - loss: 0.3167 - accuracy: 0.8995 - val_loss: 0.2681 - val_accuracy: 0.9181\n",
      "Epoch 15/450\n",
      "13/13 [==============================] - 0s 8ms/step - loss: 0.2782 - accuracy: 0.8920 - val_loss: 0.2703 - val_accuracy: 0.9006\n",
      "Epoch 16/450\n",
      "13/13 [==============================] - 0s 8ms/step - loss: 0.2831 - accuracy: 0.9045 - val_loss: 0.2529 - val_accuracy: 0.9298\n",
      "Epoch 17/450\n",
      "13/13 [==============================] - 0s 8ms/step - loss: 0.2775 - accuracy: 0.9146 - val_loss: 0.2347 - val_accuracy: 0.9415\n",
      "Epoch 18/450\n",
      "13/13 [==============================] - 0s 8ms/step - loss: 0.2557 - accuracy: 0.9171 - val_loss: 0.2300 - val_accuracy: 0.9298\n",
      "Epoch 19/450\n",
      "13/13 [==============================] - 0s 9ms/step - loss: 0.2527 - accuracy: 0.9045 - val_loss: 0.2181 - val_accuracy: 0.9415\n",
      "Epoch 20/450\n",
      "13/13 [==============================] - 0s 8ms/step - loss: 0.2295 - accuracy: 0.9196 - val_loss: 0.2108 - val_accuracy: 0.9474\n",
      "Epoch 21/450\n",
      "13/13 [==============================] - 0s 8ms/step - loss: 0.2200 - accuracy: 0.9296 - val_loss: 0.2146 - val_accuracy: 0.9240\n",
      "Epoch 22/450\n",
      "13/13 [==============================] - 0s 8ms/step - loss: 0.2081 - accuracy: 0.9221 - val_loss: 0.1958 - val_accuracy: 0.9474\n",
      "Epoch 23/450\n",
      "13/13 [==============================] - 0s 8ms/step - loss: 0.1995 - accuracy: 0.9271 - val_loss: 0.1935 - val_accuracy: 0.9474\n",
      "Epoch 24/450\n",
      "13/13 [==============================] - 0s 8ms/step - loss: 0.2112 - accuracy: 0.9221 - val_loss: 0.1880 - val_accuracy: 0.9474\n",
      "Epoch 25/450\n",
      "13/13 [==============================] - 0s 8ms/step - loss: 0.1986 - accuracy: 0.9372 - val_loss: 0.1883 - val_accuracy: 0.9474\n",
      "Epoch 26/450\n",
      "13/13 [==============================] - 0s 8ms/step - loss: 0.1839 - accuracy: 0.9347 - val_loss: 0.1765 - val_accuracy: 0.9474\n",
      "Epoch 27/450\n",
      "13/13 [==============================] - 0s 8ms/step - loss: 0.1900 - accuracy: 0.9221 - val_loss: 0.1717 - val_accuracy: 0.9532\n",
      "Epoch 28/450\n",
      "13/13 [==============================] - 0s 8ms/step - loss: 0.1743 - accuracy: 0.9472 - val_loss: 0.1822 - val_accuracy: 0.9415\n",
      "Epoch 29/450\n",
      "13/13 [==============================] - 0s 8ms/step - loss: 0.1970 - accuracy: 0.9196 - val_loss: 0.1647 - val_accuracy: 0.9591\n",
      "Epoch 30/450\n",
      "13/13 [==============================] - 0s 8ms/step - loss: 0.1615 - accuracy: 0.9422 - val_loss: 0.1732 - val_accuracy: 0.9532\n",
      "Epoch 31/450\n",
      "13/13 [==============================] - 0s 8ms/step - loss: 0.1819 - accuracy: 0.9196 - val_loss: 0.1668 - val_accuracy: 0.9532\n",
      "Epoch 32/450\n",
      "13/13 [==============================] - 0s 8ms/step - loss: 0.1683 - accuracy: 0.9347 - val_loss: 0.1581 - val_accuracy: 0.9591\n",
      "Epoch 33/450\n",
      "13/13 [==============================] - 0s 8ms/step - loss: 0.1597 - accuracy: 0.9472 - val_loss: 0.1586 - val_accuracy: 0.9532\n",
      "Epoch 34/450\n",
      "13/13 [==============================] - 0s 8ms/step - loss: 0.1557 - accuracy: 0.9548 - val_loss: 0.1514 - val_accuracy: 0.9649\n",
      "Epoch 35/450\n",
      "13/13 [==============================] - 0s 8ms/step - loss: 0.1567 - accuracy: 0.9447 - val_loss: 0.1672 - val_accuracy: 0.9298\n",
      "Epoch 36/450\n",
      "13/13 [==============================] - 0s 8ms/step - loss: 0.1368 - accuracy: 0.9623 - val_loss: 0.1462 - val_accuracy: 0.9649\n",
      "Epoch 37/450\n",
      "13/13 [==============================] - 0s 9ms/step - loss: 0.1422 - accuracy: 0.9422 - val_loss: 0.1448 - val_accuracy: 0.9649\n",
      "Epoch 38/450\n",
      "13/13 [==============================] - 0s 8ms/step - loss: 0.1394 - accuracy: 0.9497 - val_loss: 0.1446 - val_accuracy: 0.9649\n",
      "Epoch 39/450\n",
      "13/13 [==============================] - 0s 8ms/step - loss: 0.1430 - accuracy: 0.9472 - val_loss: 0.1412 - val_accuracy: 0.9649\n",
      "Epoch 40/450\n",
      "13/13 [==============================] - 0s 8ms/step - loss: 0.1284 - accuracy: 0.9573 - val_loss: 0.1494 - val_accuracy: 0.9474\n",
      "Epoch 41/450\n",
      "13/13 [==============================] - 0s 8ms/step - loss: 0.1298 - accuracy: 0.9447 - val_loss: 0.1357 - val_accuracy: 0.9708\n",
      "Epoch 42/450\n",
      "13/13 [==============================] - 0s 8ms/step - loss: 0.1360 - accuracy: 0.9397 - val_loss: 0.1325 - val_accuracy: 0.9649\n",
      "Epoch 43/450\n",
      "13/13 [==============================] - 0s 8ms/step - loss: 0.1177 - accuracy: 0.9598 - val_loss: 0.1396 - val_accuracy: 0.9649\n",
      "Epoch 44/450\n",
      "13/13 [==============================] - 0s 8ms/step - loss: 0.1171 - accuracy: 0.9598 - val_loss: 0.1328 - val_accuracy: 0.9708\n",
      "Epoch 45/450\n",
      "13/13 [==============================] - 0s 8ms/step - loss: 0.1205 - accuracy: 0.9598 - val_loss: 0.1307 - val_accuracy: 0.9708\n",
      "Epoch 46/450\n",
      "13/13 [==============================] - 0s 8ms/step - loss: 0.1123 - accuracy: 0.9623 - val_loss: 0.1341 - val_accuracy: 0.9708\n",
      "Epoch 47/450\n",
      "13/13 [==============================] - 0s 8ms/step - loss: 0.1031 - accuracy: 0.9673 - val_loss: 0.1309 - val_accuracy: 0.9708\n",
      "Epoch 48/450\n",
      "13/13 [==============================] - 0s 8ms/step - loss: 0.1044 - accuracy: 0.9598 - val_loss: 0.1321 - val_accuracy: 0.9708\n",
      "Epoch 49/450\n",
      "13/13 [==============================] - 0s 8ms/step - loss: 0.1140 - accuracy: 0.9447 - val_loss: 0.1268 - val_accuracy: 0.9708\n",
      "Epoch 50/450\n",
      "13/13 [==============================] - 0s 8ms/step - loss: 0.1072 - accuracy: 0.9598 - val_loss: 0.1249 - val_accuracy: 0.9708\n",
      "Epoch 51/450\n",
      "13/13 [==============================] - 0s 8ms/step - loss: 0.1052 - accuracy: 0.9548 - val_loss: 0.1239 - val_accuracy: 0.9649\n",
      "Epoch 52/450\n",
      "13/13 [==============================] - 0s 8ms/step - loss: 0.0968 - accuracy: 0.9548 - val_loss: 0.1224 - val_accuracy: 0.9649\n",
      "Epoch 53/450\n",
      "13/13 [==============================] - 0s 8ms/step - loss: 0.0909 - accuracy: 0.9698 - val_loss: 0.1223 - val_accuracy: 0.9708\n",
      "Epoch 54/450\n",
      "13/13 [==============================] - 0s 8ms/step - loss: 0.0945 - accuracy: 0.9698 - val_loss: 0.1205 - val_accuracy: 0.9708\n",
      "Epoch 55/450\n",
      "13/13 [==============================] - 0s 8ms/step - loss: 0.0963 - accuracy: 0.9598 - val_loss: 0.1178 - val_accuracy: 0.9649\n",
      "Epoch 56/450\n",
      "13/13 [==============================] - 0s 9ms/step - loss: 0.0919 - accuracy: 0.9648 - val_loss: 0.1181 - val_accuracy: 0.9708\n",
      "Epoch 57/450\n",
      "13/13 [==============================] - 0s 8ms/step - loss: 0.0951 - accuracy: 0.9648 - val_loss: 0.1174 - val_accuracy: 0.9649\n",
      "Epoch 58/450\n",
      "13/13 [==============================] - 0s 8ms/step - loss: 0.0999 - accuracy: 0.9623 - val_loss: 0.1236 - val_accuracy: 0.9649\n",
      "Epoch 59/450\n",
      "13/13 [==============================] - 0s 8ms/step - loss: 0.0988 - accuracy: 0.9673 - val_loss: 0.1196 - val_accuracy: 0.9708\n",
      "Epoch 60/450\n",
      "13/13 [==============================] - 0s 8ms/step - loss: 0.0943 - accuracy: 0.9799 - val_loss: 0.1173 - val_accuracy: 0.9708\n",
      "Epoch 61/450\n",
      "13/13 [==============================] - 0s 8ms/step - loss: 0.0974 - accuracy: 0.9673 - val_loss: 0.1235 - val_accuracy: 0.9649\n",
      "Epoch 62/450\n",
      "13/13 [==============================] - 0s 8ms/step - loss: 0.0851 - accuracy: 0.9724 - val_loss: 0.1234 - val_accuracy: 0.9649\n",
      "Epoch 63/450\n",
      "13/13 [==============================] - 0s 8ms/step - loss: 0.0905 - accuracy: 0.9698 - val_loss: 0.1179 - val_accuracy: 0.9649\n",
      "Epoch 64/450\n",
      "13/13 [==============================] - 0s 8ms/step - loss: 0.0821 - accuracy: 0.9749 - val_loss: 0.1178 - val_accuracy: 0.9708\n",
      "Epoch 65/450\n",
      "13/13 [==============================] - 0s 8ms/step - loss: 0.0784 - accuracy: 0.9799 - val_loss: 0.1163 - val_accuracy: 0.9708\n",
      "Epoch 66/450\n",
      "13/13 [==============================] - 0s 8ms/step - loss: 0.0912 - accuracy: 0.9673 - val_loss: 0.1150 - val_accuracy: 0.9649\n",
      "Epoch 67/450\n",
      "13/13 [==============================] - 0s 8ms/step - loss: 0.0895 - accuracy: 0.9673 - val_loss: 0.1162 - val_accuracy: 0.9708\n",
      "Epoch 68/450\n",
      "13/13 [==============================] - 0s 8ms/step - loss: 0.0824 - accuracy: 0.9824 - val_loss: 0.1138 - val_accuracy: 0.9649\n",
      "Epoch 69/450\n",
      "13/13 [==============================] - 0s 8ms/step - loss: 0.0735 - accuracy: 0.9774 - val_loss: 0.1137 - val_accuracy: 0.9708\n",
      "Epoch 70/450\n",
      "13/13 [==============================] - 0s 8ms/step - loss: 0.0917 - accuracy: 0.9673 - val_loss: 0.1130 - val_accuracy: 0.9708\n",
      "Epoch 71/450\n",
      "13/13 [==============================] - 0s 8ms/step - loss: 0.0877 - accuracy: 0.9698 - val_loss: 0.1151 - val_accuracy: 0.9708\n",
      "Epoch 72/450\n",
      "13/13 [==============================] - 0s 9ms/step - loss: 0.0739 - accuracy: 0.9799 - val_loss: 0.1163 - val_accuracy: 0.9649\n",
      "Epoch 73/450\n",
      "13/13 [==============================] - 0s 8ms/step - loss: 0.0807 - accuracy: 0.9749 - val_loss: 0.1147 - val_accuracy: 0.9766\n",
      "Epoch 74/450\n",
      "13/13 [==============================] - 0s 8ms/step - loss: 0.0744 - accuracy: 0.9774 - val_loss: 0.1154 - val_accuracy: 0.9649\n",
      "Epoch 75/450\n",
      "13/13 [==============================] - 0s 8ms/step - loss: 0.0872 - accuracy: 0.9749 - val_loss: 0.1157 - val_accuracy: 0.9649\n",
      "Epoch 76/450\n",
      "13/13 [==============================] - 0s 8ms/step - loss: 0.0816 - accuracy: 0.9774 - val_loss: 0.1132 - val_accuracy: 0.9708\n",
      "Epoch 77/450\n",
      "13/13 [==============================] - 0s 8ms/step - loss: 0.0719 - accuracy: 0.9724 - val_loss: 0.1157 - val_accuracy: 0.9649\n",
      "Epoch 78/450\n",
      "13/13 [==============================] - 0s 8ms/step - loss: 0.0786 - accuracy: 0.9774 - val_loss: 0.1121 - val_accuracy: 0.9708\n",
      "Epoch 79/450\n",
      "13/13 [==============================] - 0s 8ms/step - loss: 0.0639 - accuracy: 0.9774 - val_loss: 0.1143 - val_accuracy: 0.9708\n",
      "Epoch 80/450\n",
      "13/13 [==============================] - 0s 8ms/step - loss: 0.0735 - accuracy: 0.9749 - val_loss: 0.1105 - val_accuracy: 0.9708\n",
      "Epoch 81/450\n",
      "13/13 [==============================] - 0s 8ms/step - loss: 0.0663 - accuracy: 0.9799 - val_loss: 0.1153 - val_accuracy: 0.9649\n",
      "Epoch 82/450\n",
      "13/13 [==============================] - 0s 8ms/step - loss: 0.0729 - accuracy: 0.9774 - val_loss: 0.1105 - val_accuracy: 0.9708\n",
      "Epoch 83/450\n",
      "13/13 [==============================] - 0s 8ms/step - loss: 0.0701 - accuracy: 0.9774 - val_loss: 0.1105 - val_accuracy: 0.9708\n",
      "Epoch 84/450\n",
      "13/13 [==============================] - 0s 8ms/step - loss: 0.0677 - accuracy: 0.9724 - val_loss: 0.1141 - val_accuracy: 0.9649\n",
      "Epoch 85/450\n",
      "13/13 [==============================] - 0s 8ms/step - loss: 0.0788 - accuracy: 0.9724 - val_loss: 0.1095 - val_accuracy: 0.9708\n",
      "Epoch 86/450\n",
      "13/13 [==============================] - 0s 8ms/step - loss: 0.0691 - accuracy: 0.9698 - val_loss: 0.1171 - val_accuracy: 0.9649\n",
      "Epoch 87/450\n",
      "13/13 [==============================] - 0s 8ms/step - loss: 0.0801 - accuracy: 0.9673 - val_loss: 0.1093 - val_accuracy: 0.9708\n",
      "Epoch 88/450\n",
      "13/13 [==============================] - 0s 8ms/step - loss: 0.0629 - accuracy: 0.9774 - val_loss: 0.1096 - val_accuracy: 0.9708\n",
      "Epoch 89/450\n",
      "13/13 [==============================] - 0s 8ms/step - loss: 0.0806 - accuracy: 0.9724 - val_loss: 0.1128 - val_accuracy: 0.9708\n",
      "Epoch 90/450\n",
      "13/13 [==============================] - 0s 8ms/step - loss: 0.0726 - accuracy: 0.9724 - val_loss: 0.1152 - val_accuracy: 0.9649\n",
      "Epoch 91/450\n",
      "13/13 [==============================] - 0s 9ms/step - loss: 0.0625 - accuracy: 0.9824 - val_loss: 0.1085 - val_accuracy: 0.9708\n",
      "Epoch 92/450\n",
      "13/13 [==============================] - 0s 8ms/step - loss: 0.0695 - accuracy: 0.9648 - val_loss: 0.1081 - val_accuracy: 0.9766\n",
      "Epoch 93/450\n",
      "13/13 [==============================] - 0s 8ms/step - loss: 0.0678 - accuracy: 0.9774 - val_loss: 0.1090 - val_accuracy: 0.9825\n",
      "Epoch 94/450\n",
      "13/13 [==============================] - 0s 8ms/step - loss: 0.0533 - accuracy: 0.9849 - val_loss: 0.1069 - val_accuracy: 0.9708\n",
      "Epoch 95/450\n",
      "13/13 [==============================] - 0s 8ms/step - loss: 0.0608 - accuracy: 0.9849 - val_loss: 0.1098 - val_accuracy: 0.9825\n",
      "Epoch 96/450\n",
      "13/13 [==============================] - 0s 8ms/step - loss: 0.0587 - accuracy: 0.9799 - val_loss: 0.1084 - val_accuracy: 0.9708\n",
      "Epoch 97/450\n",
      "13/13 [==============================] - 0s 8ms/step - loss: 0.0678 - accuracy: 0.9749 - val_loss: 0.1098 - val_accuracy: 0.9825\n",
      "Epoch 98/450\n",
      "13/13 [==============================] - 0s 8ms/step - loss: 0.0665 - accuracy: 0.9774 - val_loss: 0.1070 - val_accuracy: 0.9708\n",
      "Epoch 99/450\n",
      "13/13 [==============================] - 0s 8ms/step - loss: 0.0615 - accuracy: 0.9799 - val_loss: 0.1088 - val_accuracy: 0.9825\n",
      "Epoch 100/450\n",
      "13/13 [==============================] - 0s 8ms/step - loss: 0.0602 - accuracy: 0.9824 - val_loss: 0.1064 - val_accuracy: 0.9708\n",
      "Epoch 101/450\n",
      "13/13 [==============================] - 0s 8ms/step - loss: 0.0620 - accuracy: 0.9774 - val_loss: 0.1120 - val_accuracy: 0.9708\n",
      "Epoch 102/450\n",
      "13/13 [==============================] - 0s 8ms/step - loss: 0.0662 - accuracy: 0.9698 - val_loss: 0.1081 - val_accuracy: 0.9766\n",
      "Epoch 103/450\n",
      "13/13 [==============================] - 0s 8ms/step - loss: 0.0533 - accuracy: 0.9824 - val_loss: 0.1087 - val_accuracy: 0.9708\n",
      "Epoch 104/450\n",
      "13/13 [==============================] - 0s 8ms/step - loss: 0.0675 - accuracy: 0.9724 - val_loss: 0.1091 - val_accuracy: 0.9825\n",
      "Epoch 105/450\n",
      "13/13 [==============================] - 0s 8ms/step - loss: 0.0742 - accuracy: 0.9749 - val_loss: 0.1150 - val_accuracy: 0.9708\n",
      "Epoch 106/450\n",
      "13/13 [==============================] - 0s 8ms/step - loss: 0.0643 - accuracy: 0.9824 - val_loss: 0.1083 - val_accuracy: 0.9708\n",
      "Epoch 107/450\n",
      "13/13 [==============================] - 0s 8ms/step - loss: 0.0577 - accuracy: 0.9849 - val_loss: 0.1087 - val_accuracy: 0.9766\n",
      "Epoch 108/450\n",
      "13/13 [==============================] - 0s 8ms/step - loss: 0.0627 - accuracy: 0.9824 - val_loss: 0.1073 - val_accuracy: 0.9766\n",
      "Epoch 109/450\n",
      "13/13 [==============================] - 0s 9ms/step - loss: 0.0575 - accuracy: 0.9799 - val_loss: 0.1073 - val_accuracy: 0.9766\n",
      "Epoch 110/450\n",
      "13/13 [==============================] - 0s 8ms/step - loss: 0.0474 - accuracy: 0.9824 - val_loss: 0.1073 - val_accuracy: 0.9708\n"
     ]
    },
    {
     "data": {
      "text/plain": [
       "<keras.callbacks.History at 0x2a0960f70>"
      ]
     },
     "execution_count": 58,
     "metadata": {},
     "output_type": "execute_result"
    }
   ],
   "source": [
    "model.fit(x_train,y_train,validation_data=(x_test,y_test),epochs=450,callbacks=[early])"
   ]
  },
  {
   "cell_type": "code",
   "execution_count": 59,
   "metadata": {},
   "outputs": [],
   "source": [
    "loss=pd.DataFrame(model.history.history)"
   ]
  },
  {
   "cell_type": "code",
   "execution_count": 60,
   "metadata": {},
   "outputs": [
    {
     "data": {
      "text/plain": [
       "<Axes: >"
      ]
     },
     "execution_count": 60,
     "metadata": {},
     "output_type": "execute_result"
    },
    {
     "data": {
      "image/png": "[encoded data removed]",
      "text/plain": [
       "<Figure size 640x480 with 1 Axes>"
      ]
     },
     "metadata": {},
     "output_type": "display_data"
    }
   ],
   "source": [
    "loss.plot()"
   ]
  },
  {
   "cell_type": "code",
   "execution_count": 65,
   "metadata": {},
   "outputs": [
    {
     "name": "stdout",
     "output_type": "stream",
     "text": [
      "6/6 [==============================] - 0s 3ms/step\n"
     ]
    }
   ],
   "source": [
    "pred=(model.predict(x_test)>0.5).astype('int32')"
   ]
  },
  {
   "cell_type": "code",
   "execution_count": 66,
   "metadata": {},
   "outputs": [],
   "source": [
    "from sklearn.metrics import classification_report,ConfusionMatrixDisplay"
   ]
  },
  {
   "cell_type": "code",
   "execution_count": 68,
   "metadata": {},
   "outputs": [
    {
     "name": "stdout",
     "output_type": "stream",
     "text": [
      "              precision    recall  f1-score   support\n",
      "\n",
      "           0       0.97      0.95      0.96        66\n",
      "           1       0.97      0.98      0.98       105\n",
      "\n",
      "    accuracy                           0.97       171\n",
      "   macro avg       0.97      0.97      0.97       171\n",
      "weighted avg       0.97      0.97      0.97       171\n",
      "\n"
     ]
    }
   ],
   "source": [
    "print(classification_report(y_test,pred))"
   ]
  },
  {
   "cell_type": "code",
   "execution_count": 69,
   "metadata": {},
   "outputs": [
    {
     "data": {
      "text/plain": [
       "<sklearn.metrics._plot.confusion_matrix.ConfusionMatrixDisplay at 0x29fcdae60>"
      ]
     },
     "execution_count": 69,
     "metadata": {},
     "output_type": "execute_result"
    },
    {
     "data": {
      "image/png": "[encoded data removed]",
      "text/plain": [
       "<Figure size 640x480 with 2 Axes>"
      ]
     },
     "metadata": {},
     "output_type": "display_data"
    }
   ],
   "source": [
    "ConfusionMatrixDisplay.from_predictions(y_test,pred)"
   ]
  },
  {
   "cell_type": "code",
   "execution_count": 71,
   "metadata": {},
   "outputs": [],
   "source": [
    "new=x_test[0].reshape(-1,30)"
   ]
  },
  {
   "cell_type": "code",
   "execution_count": 73,
   "metadata": {},
   "outputs": [],
   "source": [
    "a=scaler.fit_transform(new)"
   ]
  },
  {
   "cell_type": "code",
   "execution_count": 75,
   "metadata": {},
   "outputs": [
    {
     "name": "stdout",
     "output_type": "stream",
     "text": [
      "1/1 [==============================] - 0s 13ms/step\n"
     ]
    },
    {
     "data": {
      "text/plain": [
       "array([[1]], dtype=int32)"
      ]
     },
     "execution_count": 75,
     "metadata": {},
     "output_type": "execute_result"
    }
   ],
   "source": [
    "(model.predict(a)>0.5).astype('int32')"
   ]
  },
  {
   "cell_type": "code",
   "execution_count": 76,
   "metadata": {},
   "outputs": [
    {
     "data": {
      "text/plain": [
       "1"
      ]
     },
     "execution_count": 76,
     "metadata": {},
     "output_type": "execute_result"
    }
   ],
   "source": [
    "y_test[0]"
   ]
  },
  {
   "cell_type": "code",
   "execution_count": null,
   "metadata": {},
   "outputs": [],
   "source": []
  }
 ],
 "metadata": {
  "kernelspec": {
   "display_name": "tensorflow",
   "language": "python",
   "name": "python3"
  },
  "language_info": {
   "codemirror_mode": {
    "name": "ipython",
    "version": 3
   },
   "file_extension": ".py",
   "mimetype": "text/x-python",
   "name": "python",
   "nbconvert_exporter": "python",
   "pygments_lexer": "ipython3",
   "version": "3.10.10"
  },
  "orig_nbformat": 4
 },
 "nbformat": 4,
 "nbformat_minor": 2
}
